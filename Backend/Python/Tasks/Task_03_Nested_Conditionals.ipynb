{
 "cells": [
  {
   "cell_type": "markdown",
   "id": "610be128",
   "metadata": {},
   "source": [
    "Practice Problems: Nested if-else & Ternary Operators"
   ]
  },
  {
   "cell_type": "markdown",
   "id": "b18e2910",
   "metadata": {},
   "source": [
    "Part A: Nested if-else Statement Problems\n",
    "\n",
    "1. Juice Shop Discount\n",
    "If a customer buys more than 2 bottles of juice:\n",
    "- If they are a regular customer -> give 15% discount.\n",
    "- If not -> give 5% discount.\n",
    "Otherwise, no discount."
   ]
  },
  {
   "cell_type": "code",
   "execution_count": 14,
   "id": "4edf32a9",
   "metadata": {},
   "outputs": [
    {
     "name": "stdout",
     "output_type": "stream",
     "text": [
      "Your total is:500\n"
     ]
    }
   ],
   "source": [
    "cbuy = int(input('Enter how many juices customer bought:'))\n",
    "frequent = input('Enter how frequent the customer is:')\n",
    "price = int(input('Enter the total price:'))\n",
    "if cbuy > 2:\n",
    "    if frequent.lower() == 'regular':\n",
    "        price *= 0.85 # 15% discount\n",
    "        print(f'Your total after 15% discount is:{price}')\n",
    "    else:\n",
    "        price *= 0.95 # 15% discount\n",
    "        print(f'Your total after 5% discount is:{price}')\n",
    "else:\n",
    "    print(f'Your total is:{price}')"
   ]
  },
  {
   "cell_type": "markdown",
   "id": "207abcfb",
   "metadata": {},
   "source": [
    "2. Fuel Check\n",
    "If fuel level is below 25%:\n",
    "- If the vehicle type is \"car\" -> print \"Refuel soon at a petrol station.\"\n",
    "- If vehicle is \"bike\" -> print \"Refuel at nearest pump.\"\n",
    "- Else -> print \"Check vehicle type.\""
   ]
  },
  {
   "cell_type": "code",
   "execution_count": null,
   "id": "65fe958c",
   "metadata": {},
   "outputs": [
    {
     "name": "stdout",
     "output_type": "stream",
     "text": [
      "Refuel soon at a petrol station.\n"
     ]
    }
   ],
   "source": [
    "fuel_level = int(input('Enter Your current Fuel level:'))\n",
    "vtype = input(\"Enter Your vehicle Type:\")\n",
    "if fuel_level < 25:\n",
    "    if vtype.lower() == 'car':\n",
    "        print('Refuel soon at a petrol station.')\n",
    "    elif vtype.lower() == 'bike':\n",
    "        print('Refuel at nearest pump.')\n",
    "    else:\n",
    "        print('Check Vehicle Type')\n",
    "else:\n",
    "    print('good to go')"
   ]
  },
  {
   "cell_type": "markdown",
   "id": "af37f85a",
   "metadata": {},
   "source": [
    "3. Scholarship Eligibility\n",
    "If student's grade is above 85:\n",
    "- If income is below 3 lakhs -> eligible for full scholarship.\n",
    "- If income is between 3-6 lakhs -> eligible for half scholarship.\n",
    "- Else -> no scholarship."
   ]
  },
  {
   "cell_type": "code",
   "execution_count": 22,
   "id": "2ecfa02f",
   "metadata": {},
   "outputs": [
    {
     "name": "stdout",
     "output_type": "stream",
     "text": [
      "eligible for half scholarship.\n"
     ]
    }
   ],
   "source": [
    "grade = int(input('Enter grade:'))\n",
    "income = int(input('Enter income:'))\n",
    "if grade>85:\n",
    "    if income <300000:\n",
    "        print('eligible for full scholarship.')\n",
    "    elif 300000 <= income <=600000:\n",
    "        print('eligible for half scholarship.')\n",
    "    else:\n",
    "        print('Not eligible')\n",
    "else:\n",
    "    print('no scholarship')"
   ]
  },
  {
   "cell_type": "markdown",
   "id": "9f719b72",
   "metadata": {},
   "source": [
    "4. Shopping Cart Offer\n",
    "If total cart value is over Rs1000:\n",
    "- If payment method is \"card\" -> 10% off\n",
    "- If payment method is \"UPI\" -> 15% off\n",
    "- Else -> no discount"
   ]
  },
  {
   "cell_type": "code",
   "execution_count": 16,
   "id": "8af1c6e9",
   "metadata": {},
   "outputs": [
    {
     "name": "stdout",
     "output_type": "stream",
     "text": [
      "Present Cart value with 15% discount: 900.9\n"
     ]
    }
   ],
   "source": [
    "cartv = int(input(\"Enter Your Total Cart Value:\"))\n",
    "meth = input(\"Enter 'Card' or 'upi':\")\n",
    "if cartv > 1000:\n",
    "    if meth.lower() == 'card':\n",
    "        cartv *= 0.90\n",
    "        print(f\"Present Cart value with 15% discount: {cartv}\")\n",
    "    elif meth.lower() == 'upi':\n",
    "        cartv *= 0.85\n",
    "        print(f\"Present Cart value with 5% discount: {cartv}\")\n",
    "    else:\n",
    "        print(f\"Present Cart value without any discount: {cartv}\")\n",
    "else:\n",
    "    print(f\"Present Cart value without any discount {cartv}\")\n"
   ]
  },
  {
   "cell_type": "markdown",
   "id": "7d3ddecd",
   "metadata": {},
   "source": [
    "\n",
    "5. Restaurant Entry Check\n",
    "If age >= 18:\n",
    "- If vaccinated -> \"Allowed to dine in\"\n",
    "- If not vaccinated -> \"Takeaway only\"\n",
    "Else:\n",
    "- \"You must be at least 18 to dine here.\""
   ]
  },
  {
   "cell_type": "code",
   "execution_count": null,
   "id": "26e40328",
   "metadata": {},
   "outputs": [],
   "source": [
    "\n",
    "age = int(input('Enter your age:'))\n",
    "vac = input('Are you vaccinated say (yes/no):')\n",
    "if age >= 18:\n",
    "    if vac.lower() == 'yes':\n",
    "        print(\"Allowed to dine in\")\n",
    "    elif vac.lower() == 'no':\n",
    "        print(\"Takeaway only\")\n",
    "    else:\n",
    "        print(\"Invalid input for vaccination status.\")\n",
    "else:\n",
    "    print('You must be at least 18 to dine here.')"
   ]
  },
  {
   "cell_type": "markdown",
   "id": "25ad1382",
   "metadata": {},
   "source": [
    "6. Sports Tryouts\n",
    "If player age is between 14 and 18:\n",
    "- If height > 160cm -> eligible\n",
    "- Else -> not eligible (too short)\n",
    "Else -> not eligible (age out of range)"
   ]
  },
  {
   "cell_type": "code",
   "execution_count": null,
   "id": "099c9310",
   "metadata": {},
   "outputs": [
    {
     "name": "stdout",
     "output_type": "stream",
     "text": [
      "Eligible\n"
     ]
    }
   ],
   "source": [
    "age = int(input('Enter your age:'))\n",
    "height = int(input('Enter your height:'))\n",
    "if 14 <= age <= 18:\n",
    "    if height >160:\n",
    "        print('Eligible')\n",
    "    else:\n",
    "        print('Too short you are not eligible')\n",
    "else:\n",
    "    print('age out of range')"
   ]
  },
  {
   "cell_type": "markdown",
   "id": "3aa5982e",
   "metadata": {},
   "source": [
    "PART B: TERNARY OPERATOR PROBLEMS\n",
    "\n",
    "1. Traffic Light\n",
    "If light color is \"green\" -> print \"Go\"\n",
    "Else -> print \"Stop\""
   ]
  },
  {
   "cell_type": "code",
   "execution_count": null,
   "id": "b22c6d35",
   "metadata": {},
   "outputs": [
    {
     "name": "stdout",
     "output_type": "stream",
     "text": [
      "go\n"
     ]
    }
   ],
   "source": [
    "light = input('Enter the color of the light:')\n",
    "print('go' if light.lower() == 'green' else 'stop' )"
   ]
  },
  {
   "cell_type": "markdown",
   "id": "a41d9c98",
   "metadata": {},
   "source": [
    "2. Movie Ticket Based on Age\n",
    "If age >= 18 -> \"Adult Ticket\"\n",
    "Else -> \"Child Ticket\""
   ]
  },
  {
   "cell_type": "code",
   "execution_count": 24,
   "id": "df1d83d0",
   "metadata": {},
   "outputs": [
    {
     "name": "stdout",
     "output_type": "stream",
     "text": [
      "Child Ticket\n"
     ]
    }
   ],
   "source": [
    "age = int(input(\"Enter your age:\"))\n",
    "print('Adult Ticket' if age>18 else 'Child Ticket')"
   ]
  },
  {
   "cell_type": "markdown",
   "id": "57a21e18",
   "metadata": {},
   "source": [
    "3. Discount Offer\n",
    "If amount spent >= Rs500 -> \"You get a free gift!\"\n",
    "\n",
    "Else -> \"No gift\""
   ]
  },
  {
   "cell_type": "code",
   "execution_count": null,
   "id": "abd5acef",
   "metadata": {},
   "outputs": [
    {
     "name": "stdout",
     "output_type": "stream",
     "text": [
      "No gift\n"
     ]
    }
   ],
   "source": [
    "spent = int(input('enter amount spend:'))\n",
    "print('You get a free gift' if spent >= 5000 else 'No gift')"
   ]
  },
  {
   "cell_type": "markdown",
   "id": "60e6e555",
   "metadata": {},
   "source": [
    "4. Delivery Fee\n",
    "If location is \"local\" -> Rs20 delivery fee\n",
    "Else -> Rs50 delivery fee"
   ]
  },
  {
   "cell_type": "code",
   "execution_count": null,
   "id": "6f6709d0",
   "metadata": {},
   "outputs": [],
   "source": [
    "loc = input('Enter location:')\n",
    "print('Rs 20 delivery fee' if loc.lower() = 'local' else 'Rs 50 delivery fee')"
   ]
  },
  {
   "cell_type": "markdown",
   "id": "7504006e",
   "metadata": {},
   "source": [
    "5. Fever Check\n",
    "If temperature >= 100 -> \"High Fever\"\n",
    "Else -> \"Normal\""
   ]
  },
  {
   "cell_type": "code",
   "execution_count": 26,
   "id": "bcf3f4e3",
   "metadata": {},
   "outputs": [
    {
     "name": "stdout",
     "output_type": "stream",
     "text": [
      "Normal\n"
     ]
    }
   ],
   "source": [
    "temp = int(input('Enter yout body temperature:'))\n",
    "print('High Fever' if temp >=100 else \"Normal\" )"
   ]
  },
  {
   "cell_type": "markdown",
   "id": "0ec624db",
   "metadata": {},
   "source": [
    "6. Time-Based Greeting (Nested Ternary)\n",
    "Based on hour of day (24-hour format):\n",
    "- < 12 -> \"Good Morning\"\n",
    "- < 17 -> \"Good Afternoon\"\n",
    "- Else -> \"Good Evening\""
   ]
  },
  {
   "cell_type": "code",
   "execution_count": 29,
   "id": "dd4f5cdf",
   "metadata": {},
   "outputs": [
    {
     "name": "stdout",
     "output_type": "stream",
     "text": [
      "Good Evening\n"
     ]
    }
   ],
   "source": [
    "hour = int(input('Enter time right now:'))\n",
    "print('Good Morning' if hour<12 else 'Good Afternoon'if hour <17 else'Good Evening')"
   ]
  },
  {
   "cell_type": "markdown",
   "id": "2e39d3c4",
   "metadata": {},
   "source": [
    "Bonus Challenge: Electricity Bill Calculator\n",
    "If units < 100 -> free\n",
    "If units between 100-300:\n",
    "- If usage is residential -> Rs5 per unit\n",
    "- Else (commercial) -> Rs8 per unit\n",
    "If units > 300:\n",
    "- Rs10 per unit flat"
   ]
  },
  {
   "cell_type": "code",
   "execution_count": 32,
   "id": "77c795af",
   "metadata": {},
   "outputs": [
    {
     "name": "stdout",
     "output_type": "stream",
     "text": [
      "Your bill is Rs 500\n"
     ]
    }
   ],
   "source": [
    "units = int(input('Enter Units:'))\n",
    "usage = input('Residential or commercial:')\n",
    "if units < 100:\n",
    "    print('Free')\n",
    "elif 100 <= units <= 300:\n",
    "    if usage.lower() == 'residential':\n",
    "        bill = units * 5\n",
    "    else:\n",
    "        bill = units * 8\n",
    "    print(f'Your bill is Rs {bill}')\n",
    "else:  # units > 300\n",
    "    bill = units * 10\n",
    "    print(f'Your bill is Rs {bill}')\n"
   ]
  }
 ],
 "metadata": {
  "kernelspec": {
   "display_name": "base",
   "language": "python",
   "name": "python3"
  },
  "language_info": {
   "codemirror_mode": {
    "name": "ipython",
    "version": 3
   },
   "file_extension": ".py",
   "mimetype": "text/x-python",
   "name": "python",
   "nbconvert_exporter": "python",
   "pygments_lexer": "ipython3",
   "version": "3.12.7"
  }
 },
 "nbformat": 4,
 "nbformat_minor": 5
}
