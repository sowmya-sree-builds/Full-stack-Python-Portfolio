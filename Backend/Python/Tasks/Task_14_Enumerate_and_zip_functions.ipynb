{
 "cells": [
  {
   "cell_type": "markdown",
   "id": "fb2ba2f9",
   "metadata": {},
   "source": [
    "Python Beginner Tasks on enumerate() and zip()\n",
    "Tasks on enumerate()\n",
    "\n",
    "Task 1: Simple Index Printing\n",
    "\n",
    "Write a program to print each item in the list along with its index using enumerate().\n",
    "\n",
    "fruits = [\"apple\", \"banana\", \"cherry\"]"
   ]
  },
  {
   "cell_type": "code",
   "execution_count": 1,
   "id": "46bb0ea8",
   "metadata": {},
   "outputs": [
    {
     "name": "stdout",
     "output_type": "stream",
     "text": [
      "0   apple\n",
      "1   banana\n",
      "2   cherry\n"
     ]
    }
   ],
   "source": [
    "fruits = [\"apple\", \"banana\", \"cherry\"]\n",
    "for i,f in enumerate(fruits):\n",
    "    print(i,\" \",f)\n"
   ]
  },
  {
   "cell_type": "markdown",
   "id": "116439e1",
   "metadata": {},
   "source": [
    "\n",
    "Task 2: Start Index from 1\n",
    "\n",
    "Use enumerate() with start=1 to display serial numbers for a list of student names.\n",
    "\n",
    "students = [\"Alice\", \"Bob\", \"Charlie\"]"
   ]
  },
  {
   "cell_type": "code",
   "execution_count": 2,
   "id": "aebc224a",
   "metadata": {},
   "outputs": [
    {
     "name": "stdout",
     "output_type": "stream",
     "text": [
      "1   Alice\n",
      "2   Bob\n",
      "3   Charlie\n"
     ]
    }
   ],
   "source": [
    "students = [\"Alice\", \"Bob\", \"Charlie\"]\n",
    "for i,s in enumerate(students,start=1):\n",
    "    print(i,' ',s)"
   ]
  },
  {
   "cell_type": "markdown",
   "id": "c13fd773",
   "metadata": {},
   "source": [
    "Task 3: Replace for with enumerate()\n",
    "\n",
    "Re-write this loop using enumerate():\n",
    "\n",
    "colors = [\"red\", \"green\", \"blue\"]\n",
    "index = 0\n",
    "for color in colors:\n",
    "    print(index, color)\n",
    "    index += 1"
   ]
  },
  {
   "cell_type": "code",
   "execution_count": 3,
   "id": "bee19760",
   "metadata": {},
   "outputs": [
    {
     "name": "stdout",
     "output_type": "stream",
     "text": [
      "0   red\n",
      "1   green\n",
      "2   blue\n"
     ]
    }
   ],
   "source": [
    "colors = [\"red\", \"green\", \"blue\"]\n",
    "for i,c in enumerate(colors):\n",
    "    print(i,\" \",c)"
   ]
  },
  {
   "cell_type": "markdown",
   "id": "441e5cd7",
   "metadata": {},
   "source": [
    "\n",
    "Task 4: Find Index of a Specific Value\n",
    "\n",
    "Using enumerate(), find the index of \"python\" in this list:\n",
    "\n",
    "languages = [\"java\", \"c++\", \"python\", \"ruby\"]"
   ]
  },
  {
   "cell_type": "code",
   "execution_count": 6,
   "id": "e188eb15",
   "metadata": {},
   "outputs": [
    {
     "name": "stdout",
     "output_type": "stream",
     "text": [
      "2   python\n"
     ]
    }
   ],
   "source": [
    "languages = [\"java\", \"c++\", \"python\", \"ruby\"]\n",
    "for i,l in enumerate(languages):\n",
    "    if l == \"python\":\n",
    "        print(i,' ',l)"
   ]
  },
  {
   "cell_type": "markdown",
   "id": "5804e23d",
   "metadata": {},
   "source": [
    "Task 5: Enumerate on a String\n",
    "\n",
    "Use enumerate() to print each character of the string \"hello\" with its index.\n",
    "\n"
   ]
  },
  {
   "cell_type": "code",
   "execution_count": 7,
   "id": "ca0075ac",
   "metadata": {},
   "outputs": [
    {
     "name": "stdout",
     "output_type": "stream",
     "text": [
      "0   h\n",
      "1   e\n",
      "2   l\n",
      "3   l\n",
      "4   o\n"
     ]
    }
   ],
   "source": [
    "string1 = \"hello\"\n",
    "for i,s in enumerate(string1):\n",
    "    print(i,' ',s)"
   ]
  },
  {
   "cell_type": "markdown",
   "id": "38846f65",
   "metadata": {},
   "source": [
    "\n",
    "Tasks on zip()\n",
    "Task 6: Combine Two Lists\n",
    "\n",
    "Use zip() to pair elements from these lists:\n",
    "\n",
    "names = [\"Alice\", \"Bob\", \"Charlie\"]\n",
    "marks = [85, 90, 78]\n",
    "\n",
    "\n",
    "Expected Output:\n",
    "\n",
    "(\"Alice\", 85), (\"Bob\", 90), (\"Charlie\", 78)"
   ]
  },
  {
   "cell_type": "code",
   "execution_count": 21,
   "id": "bdf8ad44",
   "metadata": {},
   "outputs": [
    {
     "name": "stdout",
     "output_type": "stream",
     "text": [
      "(('Alice', 85), ('Bob', 90), ('Charlie', 78))\n"
     ]
    }
   ],
   "source": [
    "names = [\"Alice\", \"Bob\", \"Charlie\"]\n",
    "marks = [85, 90, 78]\n",
    "tuple1=tuple(zip(names,marks))\n",
    "print(tuple1)\n"
   ]
  },
  {
   "cell_type": "markdown",
   "id": "a86cc3be",
   "metadata": {},
   "source": [
    "Task 7: Iterate with zip()\n",
    "\n",
    "Write a program that prints sentences like:\n",
    "\n",
    "Alice scored 85\n",
    "Bob scored 90\n",
    "Charlie scored 78\n",
    "\n",
    "\n",
    "using the lists above.\n",
    "\n"
   ]
  },
  {
   "cell_type": "code",
   "execution_count": 25,
   "id": "bb128512",
   "metadata": {},
   "outputs": [
    {
     "name": "stdout",
     "output_type": "stream",
     "text": [
      "Alice scored 85\n",
      "Bob scored 90\n",
      "Charlie scored 78\n"
     ]
    }
   ],
   "source": [
    "names = [\"Alice\", \"Bob\", \"Charlie\"]\n",
    "marks = [85, 90, 78]\n",
    "result = zip(names,marks)\n",
    "for i,v in result:\n",
    "    print(f'{i} scored {v}')"
   ]
  },
  {
   "cell_type": "markdown",
   "id": "74666058",
   "metadata": {},
   "source": [
    "Task 8: Unzipping\n",
    "\n",
    "Given:\n",
    "\n",
    "pairs = [(\"a\", 1), (\"b\", 2), (\"c\", 3)]\n",
    "\n",
    "\n",
    "Use zip(*pairs) to separate keys and values.\n",
    "\n"
   ]
  },
  {
   "cell_type": "code",
   "execution_count": 28,
   "id": "1a98b9ac",
   "metadata": {},
   "outputs": [
    {
     "name": "stdout",
     "output_type": "stream",
     "text": [
      "keys: ('a', 'b', 'c')\n",
      "values: (1, 2, 3)\n"
     ]
    }
   ],
   "source": [
    "pairs = [(\"a\", 1), (\"b\", 2), (\"c\", 3)]\n",
    "keys,values=zip(*pairs)\n",
    "\n",
    "print(f'keys: {keys}')\n",
    "print(f'values: {values}')"
   ]
  },
  {
   "cell_type": "markdown",
   "id": "e4b19f86",
   "metadata": {},
   "source": [
    "Task 9: Multiple Iterables\n",
    "\n",
    "Use zip() on three lists:\n",
    "\n",
    "ids = [101, 102, 103]\n",
    "names = [\"Tom\", \"Jerry\", \"Mickey\"]\n",
    "grades = [\"A\", \"B\", \"A\"]\n",
    "\n",
    "\n",
    "Expected Output:\n",
    "\n",
    "(101, \"Tom\", \"A\")\n",
    "(102, \"Jerry\", \"B\")\n",
    "(103, \"Mickey\", \"A\")\n",
    "\n"
   ]
  },
  {
   "cell_type": "code",
   "execution_count": 29,
   "id": "8a308a1e",
   "metadata": {},
   "outputs": [
    {
     "name": "stdout",
     "output_type": "stream",
     "text": [
      "(101, 'Tom', 'A')\n",
      "(102, 'Jerry', 'B')\n",
      "(103, 'Mickey', 'A')\n"
     ]
    }
   ],
   "source": [
    "ids = [101, 102, 103]\n",
    "names = [\"Tom\", \"Jerry\", \"Mickey\"]\n",
    "grades = [\"A\", \"B\", \"A\"]\n",
    "\n",
    "combo = zip(ids,names,grades)\n",
    "for i in combo:\n",
    "    print(i)"
   ]
  },
  {
   "cell_type": "markdown",
   "id": "795a84a9",
   "metadata": {},
   "source": [
    "Task 10: Shortest List Behavior\n",
    "\n",
    "Check how zip() behaves when given lists of different lengths:\n",
    "\n",
    "a = [1, 2, 3, 4]\n",
    "b = [\"x\", \"y\"]"
   ]
  },
  {
   "cell_type": "code",
   "execution_count": 30,
   "id": "55924e65",
   "metadata": {},
   "outputs": [
    {
     "name": "stdout",
     "output_type": "stream",
     "text": [
      "(1, 'X')\n",
      "(2, 'Y')\n"
     ]
    }
   ],
   "source": [
    "a=[1,2,3,4]\n",
    "b=[\"X\",\"Y\"]\n",
    "\n",
    "combo = zip(a,b)\n",
    "for i in combo:\n",
    "    print(i)"
   ]
  }
 ],
 "metadata": {
  "kernelspec": {
   "display_name": "base",
   "language": "python",
   "name": "python3"
  },
  "language_info": {
   "codemirror_mode": {
    "name": "ipython",
    "version": 3
   },
   "file_extension": ".py",
   "mimetype": "text/x-python",
   "name": "python",
   "nbconvert_exporter": "python",
   "pygments_lexer": "ipython3",
   "version": "3.12.7"
  }
 },
 "nbformat": 4,
 "nbformat_minor": 5
}
