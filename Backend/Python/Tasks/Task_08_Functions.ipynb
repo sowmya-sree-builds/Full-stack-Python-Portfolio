{
 "cells": [
  {
   "cell_type": "markdown",
   "id": "c3691c47",
   "metadata": {},
   "source": [
    "Tasks on return Statement & Return Values\n",
    "1. Write a function that returns the cube of a number."
   ]
  },
  {
   "cell_type": "code",
   "execution_count": 2,
   "id": "9e44fc52",
   "metadata": {},
   "outputs": [
    {
     "name": "stdout",
     "output_type": "stream",
     "text": [
      "27\n"
     ]
    }
   ],
   "source": [
    "def cube():\n",
    "    n = int(input('Enter a number:'))\n",
    "    return n ** 3\n",
    "print(cube())"
   ]
  },
  {
   "cell_type": "markdown",
   "id": "555437e4",
   "metadata": {},
   "source": [
    "2. Write a function that takes two numbers and returns their average."
   ]
  },
  {
   "cell_type": "code",
   "execution_count": 3,
   "id": "066c3e29",
   "metadata": {},
   "outputs": [
    {
     "name": "stdout",
     "output_type": "stream",
     "text": [
      "2.5\n"
     ]
    }
   ],
   "source": [
    "def avg(n,m):\n",
    "    return (n+m)/2\n",
    "print(avg(2,3))"
   ]
  },
  {
   "cell_type": "markdown",
   "id": "053cfe2b",
   "metadata": {},
   "source": [
    "3. Write a function that returns both the square and square root of a number."
   ]
  },
  {
   "cell_type": "code",
   "execution_count": 4,
   "id": "99bc03b2",
   "metadata": {},
   "outputs": [
    {
     "name": "stdout",
     "output_type": "stream",
     "text": [
      "(16, 2.0)\n"
     ]
    }
   ],
   "source": [
    "def squ(n):\n",
    "    return n ** 2,n ** (1/2)\n",
    "\n",
    "print(squ(4))"
   ]
  },
  {
   "cell_type": "markdown",
   "id": "7ce6cd46",
   "metadata": {},
   "source": [
    "4. Create a function is_odd(n) that returns True if the number is odd, else False."
   ]
  },
  {
   "cell_type": "code",
   "execution_count": 7,
   "id": "a7176e23",
   "metadata": {},
   "outputs": [
    {
     "name": "stdout",
     "output_type": "stream",
     "text": [
      "True\n"
     ]
    }
   ],
   "source": [
    "def is_odd(n):\n",
    "    return True if n%2 != 0 else False\n",
    "print(is_odd(3))"
   ]
  },
  {
   "cell_type": "markdown",
   "id": "1e107486",
   "metadata": {},
   "source": [
    "5. Write a function sum_digits(n) that returns the sum of digits of a number. (e.g.,\n",
    "sum_digits(1234) should return 10)"
   ]
  },
  {
   "cell_type": "code",
   "execution_count": 15,
   "id": "ff5419c4",
   "metadata": {},
   "outputs": [
    {
     "name": "stdout",
     "output_type": "stream",
     "text": [
      "10\n"
     ]
    }
   ],
   "source": [
    "def sum(n):\n",
    "    s = 0\n",
    "    while n > 0:\n",
    "        d = n % 10\n",
    "        s += d\n",
    "        n //= 10\n",
    "    return s\n",
    "print(sum(1234))"
   ]
  },
  {
   "cell_type": "markdown",
   "id": "40ad7b2b",
   "metadata": {},
   "source": [
    "Tasks on Functions with Default Parameters                                                                                                                    \n",
    "6. Create a function greet(name='Guest') that returns 'Hello, !'.\n",
    "price."
   ]
  },
  {
   "cell_type": "code",
   "execution_count": 17,
   "id": "b2a7148b",
   "metadata": {},
   "outputs": [
    {
     "name": "stdout",
     "output_type": "stream",
     "text": [
      "Hello, !\n"
     ]
    }
   ],
   "source": [
    "def greet(name ='Guest'):\n",
    "    return 'Hello, !'\n",
    "print(greet())"
   ]
  },
  {
   "cell_type": "markdown",
   "id": "31ee38de",
   "metadata": {},
   "source": [
    "\n",
    "7. Create a function power(base, exponent=2) that returns base ** exponent."
   ]
  },
  {
   "cell_type": "code",
   "execution_count": 19,
   "id": "2ba684db",
   "metadata": {},
   "outputs": [
    {
     "name": "stdout",
     "output_type": "stream",
     "text": [
      "81\n"
     ]
    }
   ],
   "source": [
    "def power(base,exponent=2):\n",
    "    return base**exponent\n",
    "print(power(3,4))"
   ]
  },
  {
   "cell_type": "markdown",
   "id": "b6a3a3f6",
   "metadata": {},
   "source": [
    "\n",
    "8. Create a function total_bill(item='Sandwich', quantity=1, price=50) that returns the total"
   ]
  },
  {
   "cell_type": "code",
   "execution_count": 20,
   "id": "c7dc8287",
   "metadata": {},
   "outputs": [
    {
     "name": "stdout",
     "output_type": "stream",
     "text": [
      "150\n"
     ]
    }
   ],
   "source": [
    "def total_bill(item='Sandwich', quantity=1, price=50):\n",
    "    return quantity * price\n",
    "print(total_bill(item='Sandwich', quantity=3, price=50))"
   ]
  },
  {
   "cell_type": "markdown",
   "id": "6660dcc0",
   "metadata": {},
   "source": [
    "\n",
    "9. Create a function employee_info(name, age=30, department='HR') that returns a\n",
    "formatted string."
   ]
  },
  {
   "cell_type": "code",
   "execution_count": null,
   "id": "43b7f495",
   "metadata": {},
   "outputs": [
    {
     "name": "stdout",
     "output_type": "stream",
     "text": [
      "hi my name is akhila and my age is about 30 and i belong to theHR\n"
     ]
    }
   ],
   "source": [
    "def employee_info(name, age=30, department='HR'):\n",
    "    s = f'hi my name is {name} and my age is about {age} and i belong to the {department}'\n",
    "    return s\n",
    "\n",
    "print(employee_info(name = 'akhila', age=30, department='HR'))"
   ]
  },
  {
   "cell_type": "markdown",
   "id": "f37b8b8c",
   "metadata": {},
   "source": [
    "10. Create a function circle_area(radius=1) that returns the area of a circle. (area = 3.14 *\n",
    "radius * radius)"
   ]
  },
  {
   "cell_type": "code",
   "execution_count": 23,
   "id": "805ed072",
   "metadata": {},
   "outputs": [
    {
     "name": "stdout",
     "output_type": "stream",
     "text": [
      "50.24\n"
     ]
    }
   ],
   "source": [
    "def circle_area(radius=1):\n",
    "    area = 3.14 *radius * radius\n",
    "    return area\n",
    "print(circle_area(4))\n"
   ]
  },
  {
   "cell_type": "markdown",
   "id": "19dadecd",
   "metadata": {},
   "source": [
    "Tasks on Loops with Return                                                                                                                                   \n",
    "11. Write a function that takes a number and returns the sum of all even numbers up to\n",
    "that number."
   ]
  },
  {
   "cell_type": "code",
   "execution_count": 36,
   "id": "b865c34d",
   "metadata": {},
   "outputs": [
    {
     "name": "stdout",
     "output_type": "stream",
     "text": [
      "6\n"
     ]
    }
   ],
   "source": [
    "def sume(n):\n",
    "    s = 0\n",
    "    for i in range(1,n+1):\n",
    "        if i % 2 == 0:\n",
    "            s += i\n",
    "    return s\n",
    "print(sume(5))"
   ]
  },
  {
   "cell_type": "markdown",
   "id": "6be3b847",
   "metadata": {},
   "source": [
    "12. Write a function that returns the largest number from a list of numbers passed as a\n",
    "parameter."
   ]
  },
  {
   "cell_type": "code",
   "execution_count": 2,
   "id": "fce19aad",
   "metadata": {},
   "outputs": [
    {
     "name": "stdout",
     "output_type": "stream",
     "text": [
      "5\n"
     ]
    }
   ],
   "source": [
    "def fun(n):\n",
    "    lar = n[0]\n",
    "    for i in n:\n",
    "        if i > lar:\n",
    "            lar = i\n",
    "    return lar\n",
    "print(fun([1,2,3,4,5]))\n",
    "            "
   ]
  },
  {
   "cell_type": "markdown",
   "id": "dfe7dffd",
   "metadata": {},
   "source": [
    "Tasks with Multiple Return Values                                                                                                                             \n",
    "13. Create a function min_max(numbers) that returns the minimum and maximum values\n",
    "in a list.\n"
   ]
  },
  {
   "cell_type": "code",
   "execution_count": 7,
   "id": "b10a789c",
   "metadata": {},
   "outputs": [
    {
     "name": "stdout",
     "output_type": "stream",
     "text": [
      "(6, 0)\n"
     ]
    }
   ],
   "source": [
    "def min_max(num):\n",
    "    ma = num[0]\n",
    "    mi = num[0]\n",
    "    for i in num:\n",
    "        if i > ma:\n",
    "            ma = i\n",
    "        if i < mi:\n",
    "            mi = i\n",
    "    return ma,mi\n",
    "print(min_max([1,2,3,4,0,2,6]))\n"
   ]
  },
  {
   "cell_type": "markdown",
   "id": "89c347de",
   "metadata": {},
   "source": [
    "14. Create a function student_summary(name, marks) that returns the student’s name,\n",
    "total marks, and average marks."
   ]
  },
  {
   "cell_type": "code",
   "execution_count": 9,
   "id": "578339f6",
   "metadata": {},
   "outputs": [
    {
     "name": "stdout",
     "output_type": "stream",
     "text": [
      "('sowmya', 15, 3.0)\n"
     ]
    }
   ],
   "source": [
    "def student_summary(name, marks):\n",
    "    tm = 0  # total marks\n",
    "    for i in marks:\n",
    "        tm += i\n",
    "    n = len(marks)\n",
    "    avg = tm / n\n",
    "    return name, tm, avg\n",
    "\n",
    "print(student_summary('sowmya', [1, 2, 3, 4, 5]))"
   ]
  },
  {
   "cell_type": "markdown",
   "id": "71df15fc",
   "metadata": {},
   "source": [
    "Logical Task                                                                                                                                                  \n",
    "15. Create a function calculate(num1, num2, operator='+') that does: - '+' → return sum - '-'\n",
    "→ return difference - '*' → return product - '/' → return quotient Use return and default\n",
    "parameter for operator."
   ]
  },
  {
   "cell_type": "code",
   "execution_count": 13,
   "id": "e28530a7",
   "metadata": {},
   "outputs": [
    {
     "name": "stdout",
     "output_type": "stream",
     "text": [
      "110\n"
     ]
    }
   ],
   "source": [
    "def calculate(num1, num2, operator='+'):\n",
    "    if operator == '+':\n",
    "        return num1 + num2\n",
    "    if operator == '-':\n",
    "        return num1 - num2\n",
    "    if operator == '*':\n",
    "        return num1 * num2\n",
    "    if operator == '/':\n",
    "        return num1 / num2\n",
    "    else:\n",
    "        return 'Invalid operator'\n",
    "print(calculate(11,10,'*'))\n",
    "    \n",
    "    "
   ]
  },
  {
   "cell_type": "markdown",
   "id": "6f94e2db",
   "metadata": {},
   "source": []
  }
 ],
 "metadata": {
  "kernelspec": {
   "display_name": "base",
   "language": "python",
   "name": "python3"
  },
  "language_info": {
   "codemirror_mode": {
    "name": "ipython",
    "version": 3
   },
   "file_extension": ".py",
   "mimetype": "text/x-python",
   "name": "python",
   "nbconvert_exporter": "python",
   "pygments_lexer": "ipython3",
   "version": "3.12.7"
  }
 },
 "nbformat": 4,
 "nbformat_minor": 5
}
