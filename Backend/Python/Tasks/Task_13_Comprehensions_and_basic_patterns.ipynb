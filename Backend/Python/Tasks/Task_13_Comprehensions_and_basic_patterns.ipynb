{
 "cells": [
  {
   "cell_type": "markdown",
   "id": "3ddb359f",
   "metadata": {},
   "source": [
    "Comprehension Tasks\n",
    "1. Squares of odd numbers\n",
    "Generate a list of squares of odd numbers from 1 to 20.\n"
   ]
  },
  {
   "cell_type": "code",
   "execution_count": 1,
   "id": "a7d6a7e1",
   "metadata": {},
   "outputs": [
    {
     "name": "stdout",
     "output_type": "stream",
     "text": [
      "[1, 4, 9, 16, 25, 36, 49, 64, 81, 100, 121, 144, 169, 196, 225, 256, 289, 324, 361, 400]\n"
     ]
    }
   ],
   "source": [
    "n=[]\n",
    "sq=[i**2 for i in range(1,21)]\n",
    "print(sq)"
   ]
  },
  {
   "cell_type": "markdown",
   "id": "91cb5113",
   "metadata": {},
   "source": [
    "2. Cube dictionary\n",
    "Create a dictionary where keys are numbers 1–10 and values are their cubes.\n"
   ]
  },
  {
   "cell_type": "code",
   "execution_count": 2,
   "id": "f385b109",
   "metadata": {},
   "outputs": [
    {
     "name": "stdout",
     "output_type": "stream",
     "text": [
      "{1: 1, 2: 8, 3: 27, 4: 64, 5: 125, 6: 216, 7: 343, 8: 512, 9: 729, 10: 1000}\n"
     ]
    }
   ],
   "source": [
    "cu={i:i**3 for i in range(1,11)}\n",
    "print(cu)"
   ]
  },
  {
   "cell_type": "markdown",
   "id": "13f45f6d",
   "metadata": {},
   "source": [
    "3.Set of vowels\n",
    "From the string \"programming in python\", extract unique vowels using a set comprehension.\n"
   ]
  },
  {
   "cell_type": "code",
   "execution_count": 5,
   "id": "3b4fc65b",
   "metadata": {},
   "outputs": [
    {
     "name": "stdout",
     "output_type": "stream",
     "text": [
      "{'o', 'i', 'a'}\n"
     ]
    }
   ],
   "source": [
    "string1 = \"programming in python\"\n",
    "vow={ch for ch in string1 if ch in 'aeiou'}\n",
    "print(vow)"
   ]
  },
  {
   "cell_type": "markdown",
   "id": "1e3e09ec",
   "metadata": {},
   "source": [
    "4. Reverse dictionary\n",
    "Given d = {'a': 1, 'b': 2, 'c': 3}, create a new dictionary where keys become values and values become keys.\n"
   ]
  },
  {
   "cell_type": "code",
   "execution_count": 16,
   "id": "fdf0b049",
   "metadata": {},
   "outputs": [
    {
     "name": "stdout",
     "output_type": "stream",
     "text": [
      "{1: 'a', 2: 'b', 3: 'c'}\n"
     ]
    }
   ],
   "source": [
    "my_dict = {'a': 1, 'b': 2, 'c': 3}\n",
    "reversed_dict = {}\n",
    "\n",
    "for key in my_dict:\n",
    "    value = my_dict[key]\n",
    "    reversed_dict[value] = key   \n",
    "print(reversed_dict)"
   ]
  },
  {
   "cell_type": "markdown",
   "id": "25a650a2",
   "metadata": {},
   "source": [
    "5. Multiplication table (list of tuples)\n",
    "Generate a list of tuples (n, n*2, n*3) for numbers from 1 to 5."
   ]
  },
  {
   "cell_type": "code",
   "execution_count": 17,
   "id": "6f5ee8c4",
   "metadata": {},
   "outputs": [
    {
     "name": "stdout",
     "output_type": "stream",
     "text": [
      "[(1, 2, 3), (2, 4, 6), (3, 6, 9), (4, 8, 12), (5, 10, 15)]\n"
     ]
    }
   ],
   "source": [
    "table = []\n",
    "for n in range(1, 6):\n",
    "    table.append((n, n*2, n*3))\n",
    "\n",
    "print(table)"
   ]
  },
  {
   "cell_type": "markdown",
   "id": "f62dd5f8",
   "metadata": {},
   "source": [
    "6. Filter positive numbers\n",
    "From a list nums = [-3, -1, 0, 2, 4, -6], create a new list containing only positive numbers.\n"
   ]
  },
  {
   "cell_type": "code",
   "execution_count": null,
   "id": "d96478cd",
   "metadata": {},
   "outputs": [
    {
     "name": "stdout",
     "output_type": "stream",
     "text": [
      "[2, 4]\n"
     ]
    }
   ],
   "source": [
    "nums = [-3,-1,0,2,4,-6]\n",
    "pos=[i for i in nums if i > 0]\n",
    "print(pos)"
   ]
  },
  {
   "cell_type": "markdown",
   "id": "7690ae83",
   "metadata": {},
   "source": [
    "\n",
    "7. Word lengths From the sentence \"Python makes coding easier\", generate a dictionary where key = word, value = length of the word"
   ]
  },
  {
   "cell_type": "code",
   "execution_count": 20,
   "id": "9d8b66a1",
   "metadata": {},
   "outputs": [
    {
     "name": "stdout",
     "output_type": "stream",
     "text": [
      "{'Python': 6, 'makes': 5, 'coding': 6, 'easier': 6}\n"
     ]
    }
   ],
   "source": [
    "dic=\"Python makes coding easier\"\n",
    "s={i:len(i) for i in dic.split() }\n",
    "print(s)"
   ]
  },
  {
   "cell_type": "markdown",
   "id": "ce600773",
   "metadata": {},
   "source": [
    "8. Even or Odd labeling\n",
    "Generate a list: [\"Even\", \"Odd\", \"Even\", ...] for numbers from 1 to 10.\n"
   ]
  },
  {
   "cell_type": "code",
   "execution_count": 28,
   "id": "8f697bf0",
   "metadata": {},
   "outputs": [
    {
     "name": "stdout",
     "output_type": "stream",
     "text": [
      "['odd', 'even', 'odd', 'even', 'odd', 'even', 'odd', 'even', 'odd', 'even', 'odd', 'even', 'odd', 'even', 'odd', 'even', 'odd', 'even', 'odd', 'even', 'odd', 'even', 'odd', 'even', 'odd', 'even', 'odd', 'even', 'odd', 'even', 'odd', 'even', 'odd', 'even', 'odd', 'even', 'odd', 'even', 'odd', 'even', 'odd', 'even', 'odd', 'even', 'odd', 'even', 'odd', 'even', 'odd', 'even', 'odd', 'even', 'odd', 'even', 'odd', 'even', 'odd', 'even', 'odd', 'even', 'odd', 'even', 'odd', 'even', 'odd', 'even', 'odd', 'even', 'odd', 'even', 'odd', 'even', 'odd', 'even', 'odd', 'even', 'odd', 'even', 'odd', 'even', 'odd', 'even', 'odd', 'even', 'odd', 'even', 'odd', 'even', 'odd', 'even', 'odd', 'even', 'odd', 'even', 'odd', 'even', 'odd', 'even', 'odd', 'even']\n"
     ]
    }
   ],
   "source": [
    "s = ['even' if i%2==0 else 'odd' for i in range(1,101) ]\n",
    "print(s)"
   ]
  },
  {
   "cell_type": "markdown",
   "id": "a32c51d1",
   "metadata": {},
   "source": [
    "9.  Squares as tuple\n",
    "Create a tuple of squares of numbers from 1 to 7 using a generator expression.\n"
   ]
  },
  {
   "cell_type": "code",
   "execution_count": 31,
   "id": "c662cbba",
   "metadata": {},
   "outputs": [
    {
     "name": "stdout",
     "output_type": "stream",
     "text": [
      "(1, 4, 9, 16, 25, 36, 49)\n"
     ]
    }
   ],
   "source": [
    "squares = tuple(n*n for n in range(1, 8))\n",
    "print(squares)\n"
   ]
  },
  {
   "cell_type": "markdown",
   "id": "5b2987de",
   "metadata": {},
   "source": [
    "10. Remove duplicates\n",
    "From the list [1,2,2,3,4,4,5,5,6], generate a new sorted list without duplicates.\n"
   ]
  },
  {
   "cell_type": "code",
   "execution_count": 111,
   "id": "c51bbf76",
   "metadata": {},
   "outputs": [
    {
     "name": "stdout",
     "output_type": "stream",
     "text": [
      "[1, 2, 3, 4, 5, 6]\n"
     ]
    }
   ],
   "source": [
    "list1 = [1,2,2,3,4,4,5,5,6]\n",
    "list2 = sorted(set(list1))   # remove duplicates + sort\n",
    "print(list2)"
   ]
  },
  {
   "cell_type": "code",
   "execution_count": 54,
   "id": "c23e7333",
   "metadata": {},
   "outputs": [
    {
     "name": "stdout",
     "output_type": "stream",
     "text": [
      "        * \n",
      "      * * \n",
      "    * * * \n",
      "  * * * * \n",
      "* * * * * \n"
     ]
    }
   ],
   "source": [
    "n = 0\n",
    "rows = 5\n",
    "for row in range(1, rows+1):\n",
    "    # print spaces\n",
    "    for column in range(rows-row):\n",
    "        print(\" \", end=\" \")\n",
    "    # print stars\n",
    "    for column in range(row):\n",
    "        print(\"*\", end=\" \")\n",
    "    print()\n"
   ]
  },
  {
   "cell_type": "code",
   "execution_count": 61,
   "id": "782a56d4",
   "metadata": {},
   "outputs": [
    {
     "name": "stdout",
     "output_type": "stream",
     "text": [
      "1 1 1 1 1 \n",
      "2 2 2 2 2 \n",
      "3 3 3 3 3 \n",
      "4 4 4 4 4 \n",
      "5 5 5 5 5 \n"
     ]
    }
   ],
   "source": [
    "n=1\n",
    "for row in range(n,6):\n",
    "    for column in range(n,6):\n",
    "        print(row,end=\" \")\n",
    "    print('')\n",
    "\n"
   ]
  },
  {
   "cell_type": "code",
   "execution_count": 68,
   "id": "70a9d235",
   "metadata": {},
   "outputs": [
    {
     "name": "stdout",
     "output_type": "stream",
     "text": [
      "1  \n",
      "1 2  \n",
      "1 2 3  \n",
      "1 2 3 4  \n",
      "1 2 3 4 5  \n"
     ]
    }
   ],
   "source": [
    "for row in range(1,6):\n",
    "    for column in range(1,row+1):\n",
    "        print(column,end=\" \")\n",
    "    print(' ')    \n"
   ]
  },
  {
   "cell_type": "code",
   "execution_count": 76,
   "id": "51923f53",
   "metadata": {},
   "outputs": [
    {
     "name": "stdout",
     "output_type": "stream",
     "text": [
      " \n",
      "1  \n",
      "2 2  \n",
      "3 3 3  \n",
      "4 4 4 4  \n",
      "5 5 5 5 5  \n"
     ]
    }
   ],
   "source": [
    "for row in range(0,6):\n",
    "    for column in range(1,row+1):\n",
    "        print(row,end=\" \")\n",
    "    print(' ')   "
   ]
  },
  {
   "cell_type": "code",
   "execution_count": 78,
   "id": "9a6e56f0",
   "metadata": {},
   "outputs": [
    {
     "name": "stdout",
     "output_type": "stream",
     "text": [
      "1 2 3 4 5 \n",
      "1 2 3 4 \n",
      "1 2 3 \n",
      "1 2 \n",
      "1 \n"
     ]
    }
   ],
   "source": [
    "rows = 6\n",
    "for row in range(rows, 1, -1):      \n",
    "    for column in range(1, row):\n",
    "        print(column, end=\" \")\n",
    "    print()\n"
   ]
  },
  {
   "cell_type": "code",
   "execution_count": 84,
   "id": "e6a495fa",
   "metadata": {},
   "outputs": [
    {
     "name": "stdout",
     "output_type": "stream",
     "text": [
      "1 2 3 4 5 6  \n",
      "1 2 3 4 5 6  \n",
      "1 2 3 4 5 6  \n"
     ]
    }
   ],
   "source": [
    "for row in range(1,4):\n",
    "    for col in range(1,7):\n",
    "        print(col,end=\" \")\n",
    "    print(' ')"
   ]
  },
  {
   "cell_type": "code",
   "execution_count": 101,
   "id": "045d6689",
   "metadata": {},
   "outputs": [
    {
     "name": "stdout",
     "output_type": "stream",
     "text": [
      "* * * * *  \n",
      "*       *  \n",
      "*       *  \n",
      "*       *  \n",
      "* * * * *  \n"
     ]
    }
   ],
   "source": [
    "n=5\n",
    "for row in range(n):\n",
    "    for col in range(n):\n",
    "        if row ==0 or row == n-1 or col == 0 or col == n-1:\n",
    "            print('*',end=\" \")\n",
    "        else:\n",
    "            print(' ',end=\" \")\n",
    "    print(\" \")"
   ]
  },
  {
   "cell_type": "code",
   "execution_count": 106,
   "id": "e7862a18",
   "metadata": {},
   "outputs": [
    {
     "name": "stdout",
     "output_type": "stream",
     "text": [
      "    * \n",
      "   * * \n",
      "  * * * \n",
      " * * * * \n",
      "* * * * * \n"
     ]
    }
   ],
   "source": [
    "rows = 5\n",
    "for row in range(1, rows+1):\n",
    "    # print spaces\n",
    "    for space in range(rows - row):\n",
    "        print(\" \", end=\"\")\n",
    "    # print stars\n",
    "    for star in range(row):\n",
    "        print(\"* \", end=\"\")\n",
    "    print()\n",
    "        "
   ]
  },
  {
   "cell_type": "code",
   "execution_count": 109,
   "id": "744354a6",
   "metadata": {},
   "outputs": [
    {
     "name": "stdout",
     "output_type": "stream",
     "text": [
      "    * \n",
      "   * * \n",
      "  * * * \n",
      " * * * * \n",
      "* * * * * \n",
      " * * * * \n",
      "  * * * \n",
      "   * * \n",
      "    * \n"
     ]
    }
   ],
   "source": [
    "rows = 5\n",
    "\n",
    "# Upper half (pyramid)\n",
    "for row in range(1, rows+1):\n",
    "    # print spaces\n",
    "    for space in range(rows - row):\n",
    "        print(\" \", end=\"\")\n",
    "    # print stars\n",
    "    for star in range(row):\n",
    "        print(\"* \", end=\"\")\n",
    "    print()\n",
    "\n",
    "# Lower half (inverted pyramid)\n",
    "for row in range(rows-1, 0, -1):\n",
    "    # print spaces\n",
    "    for space in range(rows - row):\n",
    "        print(\" \", end=\"\")\n",
    "    # print stars\n",
    "    for star in range(row):\n",
    "        print(\"* \", end=\"\")\n",
    "    print()\n"
   ]
  },
  {
   "cell_type": "code",
   "execution_count": null,
   "id": "3228b2f4",
   "metadata": {},
   "outputs": [],
   "source": []
  }
 ],
 "metadata": {
  "kernelspec": {
   "display_name": "base",
   "language": "python",
   "name": "python3"
  },
  "language_info": {
   "codemirror_mode": {
    "name": "ipython",
    "version": 3
   },
   "file_extension": ".py",
   "mimetype": "text/x-python",
   "name": "python",
   "nbconvert_exporter": "python",
   "pygments_lexer": "ipython3",
   "version": "3.12.7"
  }
 },
 "nbformat": 4,
 "nbformat_minor": 5
}
