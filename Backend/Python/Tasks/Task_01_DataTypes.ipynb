{
 "cells": [
  {
   "cell_type": "markdown",
   "id": "818d0d1f-2b22-4e10-ba45-ff4fd13a9d14",
   "metadata": {},
   "source": [
    "TASK ON DATA TYPES "
   ]
  },
  {
   "cell_type": "markdown",
   "id": "b493173a-7c88-48a4-95d2-cf9e56872740",
   "metadata": {},
   "source": [
    "Task 1: Swap Two Numbers\n",
    "-Swap using a temporary variable and tuple unpacking"
   ]
  },
  {
   "cell_type": "code",
   "execution_count": 3,
   "id": "842bd46b-a05d-4f51-8591-c480de5a8984",
   "metadata": {},
   "outputs": [
    {
     "name": "stdout",
     "output_type": "stream",
     "text": [
      "a: 5 b: 10\n",
      "d: 9 e: 6\n"
     ]
    }
   ],
   "source": [
    "# swaping using temporary variables\n",
    "a = 10\n",
    "b = 5\n",
    "c = 0\n",
    "\n",
    "c = a\n",
    "a = b\n",
    "b = c\n",
    "\n",
    "print('a:',a,'b:',b)\n",
    "\n",
    "# swaping using tuple unpacking\n",
    "d = 6\n",
    "e = 9\n",
    "d,e = e,d\n",
    "print('d:',d,'e:',e)"
   ]
  },
  {
   "cell_type": "markdown",
   "id": "da66d3e0-b062-4635-b329-8db73f3f6503",
   "metadata": {},
   "source": [
    "Task 2: Identify Data Types\n",
    "- Input three values from the user and print their types"
   ]
  },
  {
   "cell_type": "code",
   "execution_count": 13,
   "id": "8a1137e0-adbd-4a64-8e12-556ee23817c1",
   "metadata": {},
   "outputs": [
    {
     "name": "stdout",
     "output_type": "stream",
     "text": [
      "Enter a Value: 5.0\n",
      "Enter a Value: 5\n",
      "Enter a Value: sir\n"
     ]
    },
    {
     "name": "stdout",
     "output_type": "stream",
     "text": [
      "<class 'str'> <class 'str'> <class 'str'>\n"
     ]
    }
   ],
   "source": [
    "n1 = input('Enter a Value:')\n",
    "n2 = input('Enter a Value:')\n",
    "n3 = input('Enter a Value:')\n",
    "print(type(n1),type(n2),type(n3))"
   ]
  },
  {
   "cell_type": "markdown",
   "id": "91b2d8f4-3779-4b3b-bc5c-ffb800c40fe1",
   "metadata": {},
   "source": [
    "Task 3: Simple Calculator\n",
    "- Perform +, -, *, /, //, %, **"
   ]
  },
  {
   "cell_type": "code",
   "execution_count": 29,
   "id": "1191324d-dc74-40ae-b0a1-d7e75df8f37a",
   "metadata": {},
   "outputs": [
    {
     "name": "stdout",
     "output_type": "stream",
     "text": [
      "a 2\n",
      "b 3\n",
      "Enter desired operation(+, -, *, /, //, %): **\n"
     ]
    },
    {
     "name": "stdout",
     "output_type": "stream",
     "text": [
      "8\n"
     ]
    }
   ],
   "source": [
    "a = int(input('a'))\n",
    "b = int(input('b'))\n",
    "c = input('Enter desired operation(+, -, *, /, //, %):')\n",
    "if c == '+':\n",
    "        print(a+b)\n",
    "elif c == '-':\n",
    "        print(a-b)\n",
    "elif c == '*':\n",
    "        print(a*b)\n",
    "elif c == '/':\n",
    "        print(a/b)\n",
    "elif c == '//':\n",
    "        print(a//b)\n",
    "elif c == '%':\n",
    "        print(a%b)\n",
    "elif c == '**':\n",
    "        print(a**b)\n",
    "else:\n",
    "    print('Invalid Operation')"
   ]
  },
  {
   "cell_type": "markdown",
   "id": "abff3bd0-1195-4818-8272-bee7f4c869bb",
   "metadata": {},
   "source": [
    "Task 4: Salary Hike\n",
    "- Take salary and apply 15% hike. Print old and new salary"
   ]
  },
  {
   "cell_type": "code",
   "execution_count": 37,
   "id": "3976917a-40f5-46de-89c9-195aca2d5e36",
   "metadata": {},
   "outputs": [
    {
     "name": "stdout",
     "output_type": "stream",
     "text": [
      "Enter your current salary:  20000\n"
     ]
    },
    {
     "name": "stdout",
     "output_type": "stream",
     "text": [
      "Old Salary: 20000\n",
      "New Salary after 15% hike: 23000.0\n"
     ]
    }
   ],
   "source": [
    "salary = int(input('Enter your current salary: '))\n",
    "hike = 0.15 * salary\n",
    "new_salary = salary + hike\n",
    "\n",
    "print(f\"Old Salary: {salary}\")\n",
    "print(f\"New Salary after 15% hike: {new_salary}\")\n"
   ]
  },
  {
   "cell_type": "markdown",
   "id": "ae7138bc-4981-4591-bf4d-07b2f9f6f789",
   "metadata": {},
   "source": [
    "Task 5: Area and Perimeter of Circle\n",
    "- Use radius to calculate area and perimeter (pi = 3.14159)."
   ]
  },
  {
   "cell_type": "code",
   "execution_count": 53,
   "id": "c8efa4da-13ed-46dc-bb1c-33a81ccacc58",
   "metadata": {},
   "outputs": [
    {
     "name": "stdout",
     "output_type": "stream",
     "text": [
      "Enter radius of the Desired Circle: 5\n"
     ]
    },
    {
     "name": "stdout",
     "output_type": "stream",
     "text": [
      "Area of the circle: 78.53975 Perimeter of the circle: 31.4159\n"
     ]
    }
   ],
   "source": [
    "r = int(input('Enter radius of the Desired Circle:'))\n",
    "pi = 3.14159\n",
    "perimeter = 2*pi*r\n",
    "area = pi*(r**2)\n",
    "print('Area of the circle:', area, 'Perimeter of the circle:',perimeter)"
   ]
  },
  {
   "cell_type": "markdown",
   "id": "2002141a-b459-4a7a-8db5-f6a7612ecd18",
   "metadata": {},
   "source": [
    "Task 6: ASCII Character\n",
    "- Input a character and print its ASCII using ord()."
   ]
  },
  {
   "cell_type": "code",
   "execution_count": 57,
   "id": "02dba1c0-a7a8-4a4f-bf09-2c68112e670c",
   "metadata": {},
   "outputs": [
    {
     "name": "stdout",
     "output_type": "stream",
     "text": [
      "Enter a Character: A\n"
     ]
    },
    {
     "name": "stdout",
     "output_type": "stream",
     "text": [
      "The ASCII value of 'A' is: 65\n"
     ]
    }
   ],
   "source": [
    "# ord() → Returns the ASCII (or Unicode) value of a character\n",
    "# Example: ord('A') → 65\n",
    "\n",
    "# chr() → Returns the character for a given ASCII (or Unicode) value\n",
    "# Example: chr(65) → 'A'\n",
    "\n",
    "n = input('Enter a Character:')\n",
    "asc = ord(n)\n",
    "print(f\"The ASCII value of '{n}' is: {asc}\")"
   ]
  },
  {
   "cell_type": "markdown",
   "id": "1a01b96a-aa12-4035-8c31-de4466aa4125",
   "metadata": {},
   "source": [
    "Task 7: Check Even or Odd\n",
    "- Use modulus operator to determine if a number is even or odd."
   ]
  },
  {
   "cell_type": "code",
   "execution_count": 65,
   "id": "1918b023-e8b4-4601-b30a-54aaeacde177",
   "metadata": {},
   "outputs": [
    {
     "name": "stdout",
     "output_type": "stream",
     "text": [
      "Enter a Number: 8\n"
     ]
    },
    {
     "name": "stdout",
     "output_type": "stream",
     "text": [
      "n is even\n"
     ]
    }
   ],
   "source": [
    "n = int(input('Enter a Number:'))\n",
    "if n % 2 == 0:\n",
    "        print('n is even')\n",
    "else:\n",
    "        print('n is odd')"
   ]
  },
  {
   "cell_type": "markdown",
   "id": "2ff37fa0-ee96-4225-9caf-ea30610c8fd6",
   "metadata": {},
   "source": [
    "Task 8: Compound Assignment Practice\n",
    "- Use +=, -=, =, //=, %= operators on a variable. Show result after each."
   ]
  },
  {
   "cell_type": "code",
   "execution_count": 71,
   "id": "fbddbc3d-6f0c-4dce-bf31-4087d5a37482",
   "metadata": {},
   "outputs": [
    {
     "name": "stdout",
     "output_type": "stream",
     "text": [
      "10\n",
      "20\n",
      "10\n",
      "100\n",
      "10\n",
      "0\n"
     ]
    }
   ],
   "source": [
    "a = 10\n",
    "print(a)\n",
    "a += 10\n",
    "print(a)\n",
    "a -=10\n",
    "print(a)\n",
    "a *= 10\n",
    "print(a)\n",
    "a //= 10\n",
    "print(a)\n",
    "a %= 10\n",
    "print(a)"
   ]
  },
  {
   "cell_type": "markdown",
   "id": "0bd28fae-b05f-474c-a9f0-d2da207e6120",
   "metadata": {},
   "source": [
    "Task 9: Boolean and Logical Check\n",
    "- Use logical operators to check age and name validity."
   ]
  },
  {
   "cell_type": "code",
   "execution_count": 75,
   "id": "33792fed-9b12-4f54-901d-8b7f0c5ac1f6",
   "metadata": {},
   "outputs": [
    {
     "name": "stdout",
     "output_type": "stream",
     "text": [
      "Enter Your age: 18\n",
      "Enter Your name: sam\n"
     ]
    },
    {
     "name": "stdout",
     "output_type": "stream",
     "text": [
      "hey sam are a major\n"
     ]
    }
   ],
   "source": [
    "age = int(input('Enter Your age:'))\n",
    "name = input('Enter Your name:')\n",
    "if age >= 18:\n",
    "    print(f'hey {name} are a major')\n",
    "else:\n",
    "    print(f'hey {name} are a major')"
   ]
  },
  {
   "cell_type": "markdown",
   "id": "827be34b-727d-41e3-a0e3-f9c75d9b7774",
   "metadata": {},
   "source": [
    "Task 10: Bitwise Shift Practice\n",
    "- Perform left shift and right shift by 1 and 2. Explain changes mathematically."
   ]
  },
  {
   "cell_type": "code",
   "execution_count": 77,
   "id": "cc8c2d97-e4cd-4413-b31e-0df3858e6d0b",
   "metadata": {},
   "outputs": [
    {
     "name": "stdout",
     "output_type": "stream",
     "text": [
      "Enter a number:  4\n"
     ]
    },
    {
     "name": "stdout",
     "output_type": "stream",
     "text": [
      "Left shift by 1: 8\n",
      "Left shift by 2: 16\n",
      "Right shift by 1: 2\n",
      "Right shift by 2: 1\n"
     ]
    }
   ],
   "source": [
    "n = int(input(\"Enter a number: \"))\n",
    "left1 = n << 1  \n",
    "left2 = n << 2  \n",
    "right1 = n >> 1\n",
    "right2 = n >> 2  \n",
    "print(\"Left shift by 1:\", left1)\n",
    "print(\"Left shift by 2:\", left2)\n",
    "print(\"Right shift by 1:\", right1)\n",
    "print(\"Right shift by 2:\", right2)\n"
   ]
  },
  {
   "cell_type": "markdown",
   "id": "35779b57-ab80-4f19-9bd7-bcf03a3c5d81",
   "metadata": {},
   "source": [
    "Task 11: Bitwise AND, OR, XOR, NOT \n",
    "- Use a 12, b = 5 to demonstrate &, |, ^, ~ operators."
   ]
  },
  {
   "cell_type": "code",
   "execution_count": null,
   "id": "1ce391c9-0eb1-4813-8ce5-5f38dc776510",
   "metadata": {},
   "outputs": [],
   "source": []
  },
  {
   "cell_type": "raw",
   "id": "e61757ea-2fb8-4e54-86c0-5f8c9ca4a2f8",
   "metadata": {},
   "source": [
    "Task 12: Data Type Conversion\n",
    "- Convert str to int, float to str, int to bool. Print result and type."
   ]
  },
  {
   "cell_type": "code",
   "execution_count": null,
   "id": "da10825a-9558-4733-bd21-d49ac8aafb1a",
   "metadata": {},
   "outputs": [],
   "source": []
  },
  {
   "cell_type": "markdown",
   "id": "cd287209-9b24-4e4e-82d9-3150a21052d2",
   "metadata": {},
   "source": [
    "Task 13 Temperature Conversion\n",
    "- Convert Celsius to Fahrenheit and vice versa"
   ]
  },
  {
   "cell_type": "code",
   "execution_count": null,
   "id": "ef010bbf-f153-43af-a5f6-959f579152a1",
   "metadata": {},
   "outputs": [],
   "source": []
  },
  {
   "cell_type": "markdown",
   "id": "86319f8a-4f32-430f-95c2-b3b20c468a1c",
   "metadata": {},
   "source": [
    "Task 14: Quotient and Remainder\n",
    "-Use // and % to get quotient and remainder Check divisibility"
   ]
  },
  {
   "cell_type": "code",
   "execution_count": null,
   "id": "d80d70a5-d1c0-4706-85db-dcc445e9ab6d",
   "metadata": {},
   "outputs": [],
   "source": []
  },
  {
   "cell_type": "markdown",
   "id": "c6a7a95a-c281-42f8-8371-b1af074c533e",
   "metadata": {},
   "source": [
    "Task 15: String Operations\n",
    "- Use string methods: upper(), lower(), len(), and 'in'."
   ]
  },
  {
   "cell_type": "code",
   "execution_count": null,
   "id": "1bd3cde3-2db3-4f4d-a98a-584475b4cb91",
   "metadata": {},
   "outputs": [
    {
     "name": "stdout",
     "output_type": "stream",
     "text": [
      "6\n"
     ]
    }
   ],
   "source": []
  },
  {
   "cell_type": "markdown",
   "id": "d5aa6a44-1a8b-4f9b-8bc7-31270e6ca4bf",
   "metadata": {},
   "source": [
    "Task 16: Sum of Digits\n",
    "- Input 3-digit number and sum digits using // and % only."
   ]
  },
  {
   "cell_type": "code",
   "execution_count": null,
   "id": "84a25169-384a-44c5-b541-35368e19584e",
   "metadata": {},
   "outputs": [],
   "source": []
  },
  {
   "cell_type": "markdown",
   "id": "fcf02d5a-a141-4f1a-bd32-31ef28e38420",
   "metadata": {},
   "source": [
    "Task 17: Identity vs Equality\n",
    "- Use and is with two lists to compare."
   ]
  },
  {
   "cell_type": "code",
   "execution_count": null,
   "id": "654eb4fa-0de4-4552-aed2-a9eae0628185",
   "metadata": {},
   "outputs": [],
   "source": []
  },
  {
   "cell_type": "markdown",
   "id": "3964144a-fc21-43ff-9848-250086e2fb96",
   "metadata": {},
   "source": [
    "Task 18: Age in Months and Days\n",
    "Convert age in years to months and days."
   ]
  },
  {
   "cell_type": "code",
   "execution_count": null,
   "id": "a3f7f9a8-4796-4df5-9ebd-1c8bff05ab07",
   "metadata": {},
   "outputs": [],
   "source": []
  },
  {
   "cell_type": "markdown",
   "id": "7cefa3c9-dc5f-4ddb-8e4f-d088b8eec958",
   "metadata": {},
   "source": [
    "Task 19: Type Guessing\n",
    "Analyze type of x = 10+3.5, y = \"Age:\" + str(30), z = True + False + 2."
   ]
  },
  {
   "cell_type": "code",
   "execution_count": null,
   "id": "8a201691-3fca-4d82-a16f-ad3601eedf1f",
   "metadata": {},
   "outputs": [],
   "source": []
  },
  {
   "cell_type": "markdown",
   "id": "4e6b4e07-393e-447e-927f-71c0a9dbbae0",
   "metadata": {},
   "source": [
    "Task 20: Bitwise Practice (No bin())\n",
    "Use a number n and show n, n << 1. n >> 2. Explain mathematically."
   ]
  },
  {
   "cell_type": "code",
   "execution_count": null,
   "id": "2d3bae7c-2a94-4f7b-9381-9bb4c9c3cc4a",
   "metadata": {},
   "outputs": [],
   "source": []
  }
 ],
 "metadata": {
  "kernelspec": {
   "display_name": "base",
   "language": "python",
   "name": "python3"
  },
  "language_info": {
   "codemirror_mode": {
    "name": "ipython",
    "version": 3
   },
   "file_extension": ".py",
   "mimetype": "text/x-python",
   "name": "python",
   "nbconvert_exporter": "python",
   "pygments_lexer": "ipython3",
   "version": "3.12.7"
  }
 },
 "nbformat": 4,
 "nbformat_minor": 5
}
