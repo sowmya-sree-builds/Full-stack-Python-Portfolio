{
 "cells": [
  {
   "cell_type": "markdown",
   "id": "f5f192d0",
   "metadata": {},
   "source": [
    "Create 4 Classes of your own choice"
   ]
  },
  {
   "cell_type": "code",
   "execution_count": 1,
   "id": "849240a9",
   "metadata": {},
   "outputs": [
    {
     "name": "stdout",
     "output_type": "stream",
     "text": [
      "bahubali is released in the year 2017\n",
      "bahubali is a hit\n",
      "ninnukori is a hit\n"
     ]
    }
   ],
   "source": [
    "class movie:\n",
    "    def __init__(self,movie,timeline):\n",
    "        self.movie = movie\n",
    "        self.timeline = timeline\n",
    "\n",
    "    def movieyear(self):\n",
    "        print(f'{self.movie} is released in the year {self.timeline}')\n",
    "\n",
    "    def hitmov(self):\n",
    "        print(f'{self.movie} is a hit')\n",
    "\n",
    "mov1=movie('bahubali',2017)\n",
    "mov1.movieyear()\n",
    "mov1.hitmov()\n",
    "mov2=movie('ninnukori',2019)\n",
    "mov2.hitmov()\n",
    "mov3=movie('anthariksham',2015)"
   ]
  },
  {
   "cell_type": "code",
   "execution_count": 2,
   "id": "b45b2736",
   "metadata": {},
   "outputs": [
    {
     "name": "stdout",
     "output_type": "stream",
     "text": [
      "lets get the genre of the book death note heres your freedish brownie\n"
     ]
    }
   ],
   "source": [
    "class cafe:\n",
    "    freedish='brownie'\n",
    "    def __init__(self,book,food,drinks):\n",
    "        self.book = book\n",
    "        self.food = food\n",
    "        self.drinks = drinks\n",
    "    \n",
    "    def booktype(self):\n",
    "        print(f'lets get the genre of the book {self.book} heres your freedish {self.freedish}')\n",
    "\n",
    "    def foodcusine(self):\n",
    "        print(f'lets get the genre of the book {self.food}')\n",
    "\n",
    "    def drinkies(self):\n",
    "        print(f'lets get the genre of the book {self.drinks}')\n",
    "\n",
    "carla = cafe('death note','mushroom 65 ',' blueberry mojito')\n",
    "carla.booktype()"
   ]
  },
  {
   "cell_type": "code",
   "execution_count": 3,
   "id": "c4fc4038",
   "metadata": {},
   "outputs": [
    {
     "name": "stdout",
     "output_type": "stream",
     "text": [
      "the bunty of breed indie is mammal belongs to hyderabad\n",
      "the chimtu of breed Pomerian is mammal belongs to hyderabad\n"
     ]
    }
   ],
   "source": [
    "class dog:\n",
    "    species='mammal' #class variables\n",
    "    area='hyderabad'\n",
    "    def __init__(self,name,breed):\n",
    "        self.name=name\n",
    "        self.breed=breed   #these are object variables\n",
    "\n",
    "    def details(self):\n",
    "        print(f'the {self.name} of breed {self.breed} is {self.species} belongs to {self.area}')\n",
    "    \n",
    "\n",
    "dog1=dog('bunty','indie')\n",
    "dog1.details()\n",
    "\n",
    "dog2=dog('chimtu','Pomerian')\n",
    "dog2.details()"
   ]
  },
  {
   "cell_type": "code",
   "execution_count": 9,
   "id": "6af4796e",
   "metadata": {},
   "outputs": [
    {
     "name": "stdout",
     "output_type": "stream",
     "text": [
      "Welcome to Disney's Tangled!\n",
      "Hey people, this is the crew from Tangled.\n",
      "I am Rapunzel and I am Flynn Rider.\n",
      "----------------------------------------\n",
      "Storyline of Tangled:\n",
      "A lost princess with magical hair escapes her tower to discover the real world.\n",
      "----------------------------------------\n",
      "Fun Fact about Tangled: Rapunzel’s hair is said to be around 70 feet long in the movie!\n",
      "----------------------------------------\n",
      "Cast of Tangled:\n",
      " - Rapunzel\n",
      " - Flynn Rider\n",
      " - Mother Gothel\n",
      " - Pascal\n",
      " - Maximus\n",
      "----------------------------------------\n"
     ]
    }
   ],
   "source": [
    "class Favi:\n",
    "    def __init__(self, char1, char2, movie_name):\n",
    "        self.char1 = char1\n",
    "        self.char2 = char2\n",
    "        self.movie_name = movie_name\n",
    "\n",
    "    def page(self):\n",
    "        print(f\"Welcome to Disney's {self.movie_name}!\")\n",
    "        print(f\"Hey people, this is the crew from {self.movie_name}.\")\n",
    "        print(f\"I am {self.char1} and I am {self.char2}.\")\n",
    "        print(\"-\" * 40)\n",
    "\n",
    "    def plot_summary(self, summary):\n",
    "        print(f\"Storyline of {self.movie_name}:\")\n",
    "        print(summary)\n",
    "        print(\"-\" * 40)\n",
    "\n",
    "    def fun_fact(self, fact):\n",
    "        print(f\"Fun Fact about {self.movie_name}: {fact}\")\n",
    "        print(\"-\" * 40)\n",
    "\n",
    "    def cast_list(self, *members):\n",
    "        print(f\"Cast of {self.movie_name}:\")\n",
    "        for m in members:\n",
    "            print(f\" - {m}\")\n",
    "        print(\"-\" * 40)\n",
    "\n",
    "\n",
    "# Create object\n",
    "movie = Favi(\"Rapunzel\", \"Flynn Rider\", \"Tangled\")\n",
    "\n",
    "# Call methods\n",
    "movie.page()\n",
    "movie.plot_summary(\"A lost princess with magical hair escapes her tower to discover the real world.\")\n",
    "movie.fun_fact(\"Rapunzel’s hair is said to be around 70 feet long in the movie!\")\n",
    "movie.cast_list(\"Rapunzel\", \"Flynn Rider\", \"Mother Gothel\", \"Pascal\", \"Maximus\")\n",
    "\n"
   ]
  },
  {
   "cell_type": "code",
   "execution_count": null,
   "id": "ab058912",
   "metadata": {},
   "outputs": [],
   "source": []
  }
 ],
 "metadata": {
  "kernelspec": {
   "display_name": "base",
   "language": "python",
   "name": "python3"
  },
  "language_info": {
   "codemirror_mode": {
    "name": "ipython",
    "version": 3
   },
   "file_extension": ".py",
   "mimetype": "text/x-python",
   "name": "python",
   "nbconvert_exporter": "python",
   "pygments_lexer": "ipython3",
   "version": "3.12.7"
  }
 },
 "nbformat": 4,
 "nbformat_minor": 5
}
