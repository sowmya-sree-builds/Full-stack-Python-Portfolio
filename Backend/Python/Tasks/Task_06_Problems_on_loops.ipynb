{
 "cells": [
  {
   "cell_type": "markdown",
   "id": "4ca28a87",
   "metadata": {},
   "source": [
    " 1. Print Numbers Except Multiples of 3\n",
    "Print all numbers from 1 to 50, but skip numbers divisible by 3 using continue."
   ]
  },
  {
   "cell_type": "code",
   "execution_count": 2,
   "id": "8d3f50fc",
   "metadata": {},
   "outputs": [
    {
     "name": "stdout",
     "output_type": "stream",
     "text": [
      "Numbers from 1 to 50 (excluding multiples of 3):\n",
      "1 2 4 5 7 8 10 11 13 14 16 17 19 20 22 23 25 26 28 29 31 32 34 35 37 38 40 41 43 44 46 47 49 50 "
     ]
    }
   ],
   "source": [
    "print(\"Numbers from 1 to 50 (excluding multiples of 3):\")\n",
    "for i in range(1, 51):\n",
    "    if i % 3 == 0:\n",
    "        continue\n",
    "    print(i, end=' ')\n",
    "  "
   ]
  },
  {
   "cell_type": "markdown",
   "id": "c059fca2",
   "metadata": {},
   "source": [
    "2. First Multiple of 11\n",
    "Keep asking the user to enter numbers. When a number divisible by 11 is entered, print a message and exit the loop using break."
   ]
  },
  {
   "cell_type": "code",
   "execution_count": null,
   "id": "bfdf28ef",
   "metadata": {},
   "outputs": [
    {
     "name": "stdout",
     "output_type": "stream",
     "text": [
      "121 is divisible by 11. Exiting loop.\n"
     ]
    }
   ],
   "source": [
    "while True:\n",
    "    num = int(input(\"Enter a number: \"))\n",
    "    if num % 11 == 0:\n",
    "        print(f\"{num} is divisible by 11. Exiting loop.\")\n",
    "        break"
   ]
  },
  {
   "cell_type": "markdown",
   "id": "fbb130d6",
   "metadata": {},
   "source": [
    "3. Count Vowels in a String\n",
    "Take a string input from the user and count how many vowels (a, e, i, o, u) it contains."
   ]
  },
  {
   "cell_type": "code",
   "execution_count": 13,
   "id": "af3af054",
   "metadata": {},
   "outputs": [
    {
     "name": "stdout",
     "output_type": "stream",
     "text": [
      "2\n"
     ]
    }
   ],
   "source": [
    "str = input('Enter a string:')\n",
    "count = 0\n",
    "for i in str:\n",
    "    if i in 'aeiou':\n",
    "        count += 1\n",
    "print(count)"
   ]
  },
  {
   "cell_type": "markdown",
   "id": "ee10e9da",
   "metadata": {},
   "source": [
    "4.Reverse Even Numbers                                                                                                  \n",
    "Print all even numbers from 100 to 2 in reverse using a while loop."
   ]
  },
  {
   "cell_type": "code",
   "execution_count": 19,
   "id": "e6324bb1",
   "metadata": {},
   "outputs": [
    {
     "name": "stdout",
     "output_type": "stream",
     "text": [
      "98 96 94 92 90 88 86 84 82 80 78 76 74 72 70 68 66 64 62 60 58 56 54 52 50 48 46 44 42 40 38 36 34 32 30 28 26 24 22 20 18 16 14 12 10 8 6 4 2 0 "
     ]
    }
   ],
   "source": [
    "i = 100\n",
    "while i > 0:\n",
    "    i -= 1\n",
    "    if i % 2 == 0:\n",
    "        print(i, end = ' ')"
   ]
  },
  {
   "cell_type": "markdown",
   "id": "3b2c9f39",
   "metadata": {},
   "source": [
    "5. Password Verification\n",
    "Ask the user to enter a password repeatedly until they type \"admin123\". Use a while loop and break."
   ]
  },
  {
   "cell_type": "code",
   "execution_count": 21,
   "id": "d7cad637",
   "metadata": {},
   "outputs": [
    {
     "name": "stdout",
     "output_type": "stream",
     "text": [
      "you have entered hey\n",
      "you have entered hi\n"
     ]
    }
   ],
   "source": [
    "while True:\n",
    "    pas = input('Enter the correct password')\n",
    "    if pas == \"admin123\":\n",
    "        break\n",
    "    print(f'you have entered {pas}')\n"
   ]
  },
  {
   "cell_type": "markdown",
   "id": "9e9d8572",
   "metadata": {},
   "source": [
    "6. Multiplication Table (1–10)\n",
    "Take a number from the user and print its multiplication table from 1 to 10 using a for loop."
   ]
  },
  {
   "cell_type": "code",
   "execution_count": null,
   "id": "60dcac0c",
   "metadata": {},
   "outputs": [
    {
     "name": "stdout",
     "output_type": "stream",
     "text": [
      "4 x 0 = 0\n",
      "4 x 1 = 4\n",
      "4 x 2 = 8\n",
      "4 x 3 = 12\n",
      "4 x 4 = 16\n",
      "4 x 5 = 20\n",
      "4 x 6 = 24\n",
      "4 x 7 = 28\n",
      "4 x 8 = 32\n",
      "4 x 9 = 36\n",
      "4 x 10 = 40\n"
     ]
    }
   ],
   "source": [
    "n = int(input('enter the table you want:'))\n",
    "for i in range(11):\n",
    "    print(f'{n} x {i} = {n*i}')"
   ]
  },
  {
   "cell_type": "markdown",
   "id": "01c9162f",
   "metadata": {},
   "source": [
    "Skip Negative Numbers\n",
    "Ask the user to input 10 numbers. Skip negative numbers using continue and print only the positive ones."
   ]
  },
  {
   "cell_type": "code",
   "execution_count": null,
   "id": "24666ee2",
   "metadata": {},
   "outputs": [
    {
     "name": "stdout",
     "output_type": "stream",
     "text": [
      "the positive numbers you have entered: 2\n",
      "the positive numbers you have entered: 3\n",
      "the positive numbers you have entered: 3\n",
      "the positive numbers you have entered: 3\n",
      "the positive numbers you have entered: 3\n",
      "the positive numbers you have entered: 6\n",
      "the positive numbers you have entered: 6\n",
      "the positive numbers you have entered: 6\n",
      "the positive numbers you have entered: 6\n",
      "the positive numbers you have entered: 6\n"
     ]
    }
   ],
   "source": [
    "for i in range(11):\n",
    "    n = int(input('enter the number:'))\n",
    "    if n <0:\n",
    "        continue\n",
    "    print(f'the positive number you gave: {n}')"
   ]
  },
  {
   "cell_type": "markdown",
   "id": "201bb296",
   "metadata": {},
   "source": [
    "Sum of N Odd Numbers\n",
    "Ask the user to enter a number N. Find and print the sum of the first N odd numbers using a loop."
   ]
  },
  {
   "cell_type": "code",
   "execution_count": 32,
   "id": "6dd40959",
   "metadata": {},
   "outputs": [
    {
     "name": "stdout",
     "output_type": "stream",
     "text": [
      "the sum of first 3 is 6\n"
     ]
    }
   ],
   "source": [
    "n = int(input('enter a number:'))\n",
    "sum = 0\n",
    "for i in range(n):\n",
    "    i +=1\n",
    "    sum += i\n",
    "print(f'the sum of first {n} is {sum}')\n"
   ]
  },
  {
   "cell_type": "markdown",
   "id": "acf56a34",
   "metadata": {},
   "source": [
    "List Prime Numbers from 1 to 50\n",
    "Using a loop and continue, print all prime numbers between 1 and 50."
   ]
  },
  {
   "cell_type": "code",
   "execution_count": 1,
   "id": "81e21850",
   "metadata": {},
   "outputs": [
    {
     "name": "stdout",
     "output_type": "stream",
     "text": [
      "\n",
      "Prime numbers between 1 and 50:\n",
      "2 3 5 7 11 13 17 19 23 29 31 37 41 43 47 "
     ]
    }
   ],
   "source": [
    "print(\"\\nPrime numbers between 1 and 50:\")\n",
    "for num in range(2, 51):\n",
    "    is_prime = True\n",
    "    for i in range(2, int(num ** 0.5) + 1):\n",
    "        if num % i == 0:\n",
    "            is_prime = False\n",
    "            break\n",
    "    if not is_prime:\n",
    "        continue\n",
    "    print(num, end=' ')"
   ]
  },
  {
   "cell_type": "markdown",
   "id": "92f708da",
   "metadata": {},
   "source": [
    "10. Running Total Until Zero\n",
    "Ask the user to keep entering numbers. Keep a running total and stop when the user enters 0. Then print the total sum."
   ]
  },
  {
   "cell_type": "code",
   "execution_count": 3,
   "id": "5ffde4d2",
   "metadata": {},
   "outputs": [
    {
     "name": "stdout",
     "output_type": "stream",
     "text": [
      "4\n",
      "8\n",
      "6\n",
      "4\n"
     ]
    }
   ],
   "source": [
    "while True:\n",
    "    n = int(input('Enter a number:'))\n",
    "    if n == 0:\n",
    "        break\n",
    "    print(n)"
   ]
  }
 ],
 "metadata": {
  "kernelspec": {
   "display_name": "base",
   "language": "python",
   "name": "python3"
  },
  "language_info": {
   "codemirror_mode": {
    "name": "ipython",
    "version": 3
   },
   "file_extension": ".py",
   "mimetype": "text/x-python",
   "name": "python",
   "nbconvert_exporter": "python",
   "pygments_lexer": "ipython3",
   "version": "3.12.7"
  }
 },
 "nbformat": 4,
 "nbformat_minor": 5
}
