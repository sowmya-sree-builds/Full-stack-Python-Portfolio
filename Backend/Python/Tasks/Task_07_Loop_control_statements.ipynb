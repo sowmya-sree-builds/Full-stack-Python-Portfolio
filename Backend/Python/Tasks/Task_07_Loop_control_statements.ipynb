{
 "cells": [
  {
   "cell_type": "markdown",
   "id": "872f15a4",
   "metadata": {},
   "source": [
    "Tasks on break\n",
    "1. Find the First Even Number Write a function that takes a list of integers and returns the first even number using\n",
    "a loop and break."
   ]
  },
  {
   "cell_type": "code",
   "execution_count": 8,
   "id": "c25deb75",
   "metadata": {},
   "outputs": [
    {
     "name": "stdout",
     "output_type": "stream",
     "text": [
      "10\n"
     ]
    }
   ],
   "source": [
    "def first_even(n):\n",
    "    for num in n:\n",
    "        if num % 2 == 0:\n",
    "            return num \n",
    "            break\n",
    "nums = [3, 5, 7, 10, 13, 18]\n",
    "result = first_even(nums)\n",
    "print(result)"
   ]
  },
  {
   "cell_type": "markdown",
   "id": "2b0cb752",
   "metadata": {},
   "source": [
    "2. Password Validation with Retries Ask the user to enter a password. They get 3 tries. If the correct password is\n",
    "entered, print 'Access granted', otherwise after 3 failed attempts, print 'Locked out'."
   ]
  },
  {
   "cell_type": "code",
   "execution_count": null,
   "id": "8f5c334c",
   "metadata": {},
   "outputs": [
    {
     "name": "stdout",
     "output_type": "stream",
     "text": [
      "you have 2 failed attempts\n",
      "you have 1 failed attempts\n",
      "access granted\n"
     ]
    }
   ],
   "source": [
    "i = 3\n",
    "while i > 0:\n",
    "    password = input('enter the password:')\n",
    "    if password == 'shecode':\n",
    "        print('access granted')\n",
    "        break\n",
    "    else:\n",
    "        i -= 1\n",
    "        print('access denied')\n",
    "        if i > 0:\n",
    "            print(f\"You have {i} attempts left.\")\n",
    "        print(f'you have {i} failed attempts')\n",
    "if i == 0:\n",
    "    print('locked out')"
   ]
  },
  {
   "cell_type": "markdown",
   "id": "b5831987",
   "metadata": {},
   "source": [
    "3. Infinite Loop Exit Write a while True loop that keeps asking for input until the user types 'exit', then stops using\n",
    "break."
   ]
  },
  {
   "cell_type": "code",
   "execution_count": null,
   "id": "368c4baa",
   "metadata": {},
   "outputs": [
    {
     "name": "stdout",
     "output_type": "stream",
     "text": [
      "Thanks brother for exiting the loop\n"
     ]
    }
   ],
   "source": [
    "while True:\n",
    "    str = input('Enter the word \"exit\":')\n",
    "    if str == 'exit':\n",
    "        print(f'Thanks brother for exiting the loop')\n",
    "        break\n",
    "    "
   ]
  },
  {
   "cell_type": "markdown",
   "id": "f610bfbd",
   "metadata": {},
   "source": [
    "4. Skip Negative Numbers Given a list of integers, print only the positive ones using continue."
   ]
  },
  {
   "cell_type": "code",
   "execution_count": 4,
   "id": "8824cec4",
   "metadata": {},
   "outputs": [
    {
     "name": "stdout",
     "output_type": "stream",
     "text": [
      "3\n",
      "2\n",
      "5\n",
      "7\n",
      "6\n"
     ]
    }
   ],
   "source": [
    "n = [3,-5,2,5,-8,7,6]\n",
    "for i in n:\n",
    "    if i >= 0:\n",
    "        print(i)\n",
    "        continue"
   ]
  },
  {
   "cell_type": "markdown",
   "id": "d0934ab1",
   "metadata": {},
   "source": [
    "5. Skip Vowels Loop through a string and print only consonants using continue. Example Input: 'education'\n",
    "Expected Output: d c t n"
   ]
  },
  {
   "cell_type": "code",
   "execution_count": 1,
   "id": "34b0c739",
   "metadata": {},
   "outputs": [
    {
     "name": "stdout",
     "output_type": "stream",
     "text": [
      "d c t n "
     ]
    }
   ],
   "source": [
    "str = 'education'\n",
    "vowels = 'aeiou'\n",
    "for i in str:\n",
    "    if i in vowels:\n",
    "        continue\n",
    "    print(i,end=' ')\n",
    "       "
   ]
  },
  {
   "cell_type": "markdown",
   "id": "e2902d6f",
   "metadata": {},
   "source": [
    "6. Divisible by 3 but Not 5 Print all numbers from 1 to 50 that are divisible by 3 but not divisible by 5. Use continue."
   ]
  },
  {
   "cell_type": "code",
   "execution_count": 2,
   "id": "58607ed2",
   "metadata": {},
   "outputs": [
    {
     "name": "stdout",
     "output_type": "stream",
     "text": [
      "3\n",
      "6\n",
      "9\n",
      "12\n",
      "18\n",
      "21\n",
      "24\n",
      "27\n",
      "33\n",
      "36\n",
      "39\n",
      "42\n",
      "48\n"
     ]
    }
   ],
   "source": [
    "for i in range(1,51):\n",
    "    if i % 3 == 0 and i % 5 != 0:\n",
    "        print(i)\n",
    "        continue"
   ]
  },
  {
   "cell_type": "markdown",
   "id": "46f5b7a9",
   "metadata": {},
   "source": [
    "Tasks on pass                                                                                                     \n",
    "7. Define Placeholder Functions Define a function process_data() that does nothing for now. Use pass."
   ]
  },
  {
   "cell_type": "code",
   "execution_count": 3,
   "id": "5257827a",
   "metadata": {},
   "outputs": [],
   "source": [
    "def process_data():\n",
    "    pass"
   ]
  },
  {
   "cell_type": "markdown",
   "id": "7e379ccf",
   "metadata": {},
   "source": [
    "8. Skeleton Class Create a class User with a pass block. You'll add functionality later."
   ]
  },
  {
   "cell_type": "code",
   "execution_count": 4,
   "id": "1c283f58",
   "metadata": {},
   "outputs": [],
   "source": [
    "class user:\n",
    "    pass"
   ]
  },
  {
   "cell_type": "markdown",
   "id": "7dd45ad8",
   "metadata": {},
   "source": [
    "9. Use pass in Empty Loop Create a for loop from 1 to 5 but do nothing inside the loop body."
   ]
  },
  {
   "cell_type": "code",
   "execution_count": 5,
   "id": "2aa3c3b6",
   "metadata": {},
   "outputs": [],
   "source": [
    "for i in range(1,6):\n",
    "    pass"
   ]
  },
  {
   "cell_type": "markdown",
   "id": "89648c9f",
   "metadata": {},
   "source": [
    "Mixed Challenges (Use All Three)                                                                                    \n",
    "10. Filter and Stop Given a list of numbers, print only those that are: - Even (use continue to skip odd numbers) -\n",
    "Less than 50 (stop if number >= 50 using break) - Ignore 0 (use pass if number is 0)\n"
   ]
  },
  {
   "cell_type": "code",
   "execution_count": 11,
   "id": "6d47bc6b",
   "metadata": {},
   "outputs": [
    {
     "name": "stdout",
     "output_type": "stream",
     "text": [
      "2\n",
      "12\n",
      "26\n",
      "38\n"
     ]
    }
   ],
   "source": [
    "numbers = [1,2,12, 26, 38, 456, 44, 20]\n",
    "\n",
    "for num in numbers:\n",
    "    if num == 0:\n",
    "        pass\n",
    "    elif num % 2 != 0:\n",
    "        continue\n",
    "    elif num >= 50:\n",
    "        break\n",
    "    else:\n",
    "        print(num)\n"
   ]
  },
  {
   "cell_type": "markdown",
   "id": "a5cb1900",
   "metadata": {},
   "source": [
    "11. Word Filter Loop over a list of words. Skip words with less than 3 characters, stop if the word is 'end', and do\n",
    "nothing (with pass) if the word is 'wait'. Example Input: ['hi', 'cat', 'wait', 'dog', 'end', 'zebra'] Expected behavior: -\n",
    "Skips 'hi' - Prints 'cat', 'dog' - Ignores 'wait' - Stops at 'end'"
   ]
  },
  {
   "cell_type": "code",
   "execution_count": 15,
   "id": "018e3f52",
   "metadata": {},
   "outputs": [
    {
     "name": "stdout",
     "output_type": "stream",
     "text": [
      "cat\n",
      "dog\n"
     ]
    }
   ],
   "source": [
    "words = ['hi', 'cat', 'wait', 'dog', 'end', 'zebra']\n",
    "for i in words:\n",
    "    if len(i) < 3:\n",
    "        continue\n",
    "    elif i == 'end':\n",
    "        break\n",
    "    elif i == 'wait':\n",
    "        pass\n",
    "    else:\n",
    "        print(i)\n",
    "\n"
   ]
  },
  {
   "cell_type": "code",
   "execution_count": null,
   "id": "bee33ab4",
   "metadata": {},
   "outputs": [],
   "source": []
  }
 ],
 "metadata": {
  "kernelspec": {
   "display_name": "base",
   "language": "python",
   "name": "python3"
  },
  "language_info": {
   "codemirror_mode": {
    "name": "ipython",
    "version": 3
   },
   "file_extension": ".py",
   "mimetype": "text/x-python",
   "name": "python",
   "nbconvert_exporter": "python",
   "pygments_lexer": "ipython3",
   "version": "3.12.7"
  }
 },
 "nbformat": 4,
 "nbformat_minor": 5
}
