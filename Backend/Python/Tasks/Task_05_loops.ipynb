{
 "cells": [
  {
   "cell_type": "markdown",
   "id": "3d78ef4e",
   "metadata": {},
   "source": [
    "SECTION 1 - Easy while loop tasks\n",
    "1. Print numbers from 1 to 5 using while loop"
   ]
  },
  {
   "cell_type": "code",
   "execution_count": 11,
   "id": "9f27b8d1",
   "metadata": {},
   "outputs": [
    {
     "name": "stdout",
     "output_type": "stream",
     "text": [
      "Numbers from 1 to 5:\n",
      "1 2 3 4 5 "
     ]
    }
   ],
   "source": [
    "print(\"Numbers from 1 to 5:\")\n",
    "i = 0\n",
    "while i < 5:\n",
    "    i += 1  \n",
    "    if i in range(1, 6):\n",
    "        print(i,end = ' ')\n"
   ]
  },
  {
   "cell_type": "markdown",
   "id": "95828727",
   "metadata": {},
   "source": [
    "2. Print even numbers from 1 to 10 using while loop"
   ]
  },
  {
   "cell_type": "code",
   "execution_count": 8,
   "id": "f8961f5a",
   "metadata": {},
   "outputs": [
    {
     "name": "stdout",
     "output_type": "stream",
     "text": [
      "Even numbers from 1 to 10:\n",
      "2 4 6 8 10 "
     ]
    }
   ],
   "source": [
    "print(\"Even numbers from 1 to 10:\")\n",
    "i = 1\n",
    "while i <= 10:\n",
    "    if i % 2 == 0:\n",
    "        print(i, end=' ')\n",
    "    i += 1\n"
   ]
  },
  {
   "cell_type": "markdown",
   "id": "bd08b5cf",
   "metadata": {},
   "source": [
    "3. Print sum of numbers from 1 to 10 using while loop"
   ]
  },
  {
   "cell_type": "code",
   "execution_count": 14,
   "id": "ab881f0c",
   "metadata": {},
   "outputs": [
    {
     "name": "stdout",
     "output_type": "stream",
     "text": [
      "Sum of numbers from 1 to 10:\n",
      "55\n"
     ]
    }
   ],
   "source": [
    "print(\"Sum of numbers from 1 to 10:\")\n",
    "i = 1\n",
    "sum = 0\n",
    "while i <= 10:\n",
    "    sum += i\n",
    "    i += 1\n",
    "print(sum)\n"
   ]
  },
  {
   "cell_type": "markdown",
   "id": "abba6f5c",
   "metadata": {},
   "source": [
    "\n",
    "4. Print each digit of a number using while loop"
   ]
  },
  {
   "cell_type": "code",
   "execution_count": 15,
   "id": "d577d7eb",
   "metadata": {},
   "outputs": [
    {
     "name": "stdout",
     "output_type": "stream",
     "text": [
      "1 2 3 4 "
     ]
    }
   ],
   "source": [
    "num = int(input(\"Enter a number to print each digit: \"))\n",
    "digits = str(num) \n",
    "i = 0\n",
    "while i < len(digits):\n",
    "    print(digits[i], end=' ')\n",
    "    i += 1"
   ]
  },
  {
   "cell_type": "markdown",
   "id": "5449e23c",
   "metadata": {},
   "source": [
    "5. Print numbers from 10 down to 1 using while loop"
   ]
  },
  {
   "cell_type": "code",
   "execution_count": 17,
   "id": "430ca072",
   "metadata": {},
   "outputs": [
    {
     "name": "stdout",
     "output_type": "stream",
     "text": [
      "10 9 8 7 6 5 4 3 2 1 "
     ]
    }
   ],
   "source": [
    "i = 10\n",
    "while i >= 1 :\n",
    "    print(i,end = ' ')\n",
    "    i -= 1\n"
   ]
  },
  {
   "cell_type": "markdown",
   "id": "44042c64",
   "metadata": {},
   "source": [
    "SECTION 2 - FOR Loop Tasks                                                                                                 \n",
    "6. Print numbers from 1 to 10 using for loop"
   ]
  },
  {
   "cell_type": "code",
   "execution_count": 18,
   "id": "f84b7885",
   "metadata": {},
   "outputs": [
    {
     "name": "stdout",
     "output_type": "stream",
     "text": [
      "Numbers from 1 to 10:\n",
      "1 2 3 4 5 6 7 8 9 10 "
     ]
    }
   ],
   "source": [
    "print(\"Numbers from 1 to 10:\")\n",
    "for i in range(1, 11):\n",
    "    print(i, end=' ')"
   ]
  },
  {
   "cell_type": "markdown",
   "id": "5469dbbb",
   "metadata": {},
   "source": [
    "7. Print each character in the word \"banana\" using for loop"
   ]
  },
  {
   "cell_type": "code",
   "execution_count": 19,
   "id": "259db1fe",
   "metadata": {},
   "outputs": [
    {
     "name": "stdout",
     "output_type": "stream",
     "text": [
      "Characters in 'banana':\n",
      "b a n a n a "
     ]
    }
   ],
   "source": [
    "print(\"Characters in 'banana':\")\n",
    "for char in \"banana\":\n",
    "    print(char, end=' ')\n"
   ]
  },
  {
   "cell_type": "markdown",
   "id": "02dc20e7",
   "metadata": {},
   "source": [
    "8. Print the square numbers from 1 to 5 using for loop"
   ]
  },
  {
   "cell_type": "code",
   "execution_count": 20,
   "id": "4d15c799",
   "metadata": {},
   "outputs": [
    {
     "name": "stdout",
     "output_type": "stream",
     "text": [
      "Square numbers from 1 to 5:\n",
      "1 4 9 16 25 "
     ]
    }
   ],
   "source": [
    "print(\"Square numbers from 1 to 5:\")\n",
    "for i in range(1, 6):\n",
    "    print(i**2, end=' ')"
   ]
  },
  {
   "cell_type": "markdown",
   "id": "b3cefadf",
   "metadata": {},
   "source": [
    "9. Print all even numbers from list"
   ]
  },
  {
   "cell_type": "code",
   "execution_count": 21,
   "id": "bfa30f35",
   "metadata": {},
   "outputs": [
    {
     "name": "stdout",
     "output_type": "stream",
     "text": [
      "Even numbers from the list [2,5,8,9,10]:\n",
      "2 8 10 "
     ]
    }
   ],
   "source": [
    "print(\"Even numbers from the list [2,5,8,9,10]:\")\n",
    "numbers = [2, 5, 8, 9, 10]\n",
    "for num in numbers:\n",
    "    if num % 2 == 0:\n",
    "        print(num, end=' ')"
   ]
  },
  {
   "cell_type": "markdown",
   "id": "aedf0c8f",
   "metadata": {},
   "source": [
    "\n",
    "10. Print numbers from 1 to 20 that are divisible by 3"
   ]
  },
  {
   "cell_type": "code",
   "execution_count": 22,
   "id": "0a123232",
   "metadata": {},
   "outputs": [
    {
     "name": "stdout",
     "output_type": "stream",
     "text": [
      "Numbers from 1 to 20 divisible by 3:\n",
      "3 6 9 12 15 18 \n"
     ]
    }
   ],
   "source": [
    "print(\"Numbers from 1 to 20 divisible by 3:\")\n",
    "for i in range(1, 21):\n",
    "    if i % 3 == 0:\n",
    "        print(i, end=' ')\n",
    "print()"
   ]
  },
  {
   "cell_type": "markdown",
   "id": "dd45b3de",
   "metadata": {},
   "source": [
    "SECTION 3 - Nested Loop Tasks                                                                                             \n",
    "11. Star pattern"
   ]
  },
  {
   "cell_type": "code",
   "execution_count": 23,
   "id": "f98712ec",
   "metadata": {},
   "outputs": [
    {
     "name": "stdout",
     "output_type": "stream",
     "text": [
      "Star Pattern:\n",
      "*\n",
      "**\n",
      "***\n",
      "\n"
     ]
    }
   ],
   "source": [
    "print(\"Star Pattern:\")\n",
    "rows = 3\n",
    "for i in range(1, rows + 1):\n",
    "    for j in range(i):\n",
    "        print(\"*\", end=\"\")\n",
    "    print()\n",
    "print()"
   ]
  },
  {
   "cell_type": "markdown",
   "id": "882f4b27",
   "metadata": {},
   "source": [
    "12. Number pattern (same row repeated)"
   ]
  },
  {
   "cell_type": "code",
   "execution_count": 24,
   "id": "e0a638c4",
   "metadata": {},
   "outputs": [
    {
     "name": "stdout",
     "output_type": "stream",
     "text": [
      "Number Pattern (same row repeated):\n",
      "1 2 3 \n",
      "1 2 3 \n",
      "1 2 3 \n",
      "\n"
     ]
    }
   ],
   "source": [
    "print(\"Number Pattern (same row repeated):\")\n",
    "for i in range(3):   # 3 rows\n",
    "    for j in range(1, 4):   # Numbers 1 to 3\n",
    "        print(j, end=\" \")\n",
    "    print()\n",
    "print()"
   ]
  },
  {
   "cell_type": "markdown",
   "id": "a2796c47",
   "metadata": {},
   "source": [
    "13. Triangle number pattern"
   ]
  },
  {
   "cell_type": "code",
   "execution_count": 25,
   "id": "09c9972f",
   "metadata": {},
   "outputs": [
    {
     "name": "stdout",
     "output_type": "stream",
     "text": [
      "Triangle Number Pattern:\n",
      "1 \n",
      "1 2 \n",
      "1 2 3 \n",
      "\n"
     ]
    }
   ],
   "source": [
    "print(\"Triangle Number Pattern:\")\n",
    "rows = 3\n",
    "for i in range(1, rows + 1):\n",
    "    for j in range(1, i + 1):\n",
    "        print(j, end=\" \")\n",
    "    print()\n",
    "print()"
   ]
  },
  {
   "cell_type": "markdown",
   "id": "b690dac2",
   "metadata": {},
   "source": [
    "14. Multiplication table of 2 (up to 10)"
   ]
  },
  {
   "cell_type": "code",
   "execution_count": 26,
   "id": "2692fa72",
   "metadata": {},
   "outputs": [
    {
     "name": "stdout",
     "output_type": "stream",
     "text": [
      "Multiplication Table of 2:\n",
      "2 x 1 = 2\n",
      "2 x 2 = 4\n",
      "2 x 3 = 6\n",
      "2 x 4 = 8\n",
      "2 x 5 = 10\n",
      "2 x 6 = 12\n",
      "2 x 7 = 14\n",
      "2 x 8 = 16\n",
      "2 x 9 = 18\n",
      "2 x 10 = 20\n",
      "\n"
     ]
    }
   ],
   "source": [
    "print(\"Multiplication Table of 2:\")\n",
    "for i in range(1, 11):\n",
    "    print(f\"2 x {i} = {2*i}\")\n",
    "print()"
   ]
  },
  {
   "cell_type": "markdown",
   "id": "a3e8050e",
   "metadata": {},
   "source": [
    "15. Print each character of two words in a list"
   ]
  },
  {
   "cell_type": "code",
   "execution_count": 28,
   "id": "758da4a1",
   "metadata": {},
   "outputs": [
    {
     "name": "stdout",
     "output_type": "stream",
     "text": [
      "Characters in each word from the list:\n",
      "h e y \n",
      "v i e w e r \n"
     ]
    }
   ],
   "source": [
    "print(\"Characters in each word from the list:\")\n",
    "words = [\"hey\", \"viewer\"]\n",
    "for word in words:\n",
    "    for char in word:\n",
    "        print(char, end=\" \")\n",
    "    print()"
   ]
  },
  {
   "cell_type": "markdown",
   "id": "d0809180",
   "metadata": {},
   "source": [
    "Section 4 - Loops with Conditions                                                                                        \n",
    "16. Print numbers from 1 to 10 and print \"Even\" or \"Odd"
   ]
  },
  {
   "cell_type": "code",
   "execution_count": 30,
   "id": "f0ae6929",
   "metadata": {},
   "outputs": [
    {
     "name": "stdout",
     "output_type": "stream",
     "text": [
      "Numbers with Even/Odd:\n",
      "1 : is Odd\n",
      "2 : is Even\n",
      "3 : is Odd\n",
      "4 : is Even\n",
      "5 : is Odd\n",
      "6 : is Even\n",
      "7 : is Odd\n",
      "8 : is Even\n",
      "9 : is Odd\n",
      "10 : is Even\n",
      "\n"
     ]
    }
   ],
   "source": [
    "print(\"Numbers with Even/Odd:\")\n",
    "for i in range(1, 11):\n",
    "    if i % 2 == 0:\n",
    "        print(i, \": is Even\")\n",
    "    else:\n",
    "        print(i, \": is Odd\")\n",
    "print()"
   ]
  },
  {
   "cell_type": "markdown",
   "id": "cfc25a69",
   "metadata": {},
   "source": [
    "17. Ask the user to enter 5 numbers and print only even numbers"
   ]
  },
  {
   "cell_type": "code",
   "execution_count": 35,
   "id": "a4c2a61b",
   "metadata": {},
   "outputs": [
    {
     "name": "stdout",
     "output_type": "stream",
     "text": [
      "22 is Even\n",
      "\n"
     ]
    }
   ],
   "source": [
    "for i in range(5):\n",
    "    num = int(input(f\"Enter number {i+1}: \"))\n",
    "    if num % 2 == 0:\n",
    "        print(f\"{num} is Even\")\n",
    "print()"
   ]
  },
  {
   "cell_type": "markdown",
   "id": "80ed3f8c",
   "metadata": {},
   "source": [
    "18. Ask the user to enter numbers until they enter a negative number, then stop"
   ]
  },
  {
   "cell_type": "code",
   "execution_count": 36,
   "id": "d309609b",
   "metadata": {},
   "outputs": [
    {
     "name": "stdout",
     "output_type": "stream",
     "text": [
      "Enter numbers (negative number to stop):\n",
      "You entered: 4\n",
      "You entered: 5\n",
      "You entered: 6\n",
      "Negative number entered. Stopping.\n",
      "\n"
     ]
    }
   ],
   "source": [
    "print(\"Enter numbers (negative number to stop):\")\n",
    "while True:\n",
    "    num = int(input(\"Enter a number: \"))\n",
    "    if num < 0:\n",
    "        print(\"Negative number entered. Stopping.\")\n",
    "        break\n",
    "    print(f\"You entered: {num}\")\n",
    "print()"
   ]
  },
  {
   "cell_type": "markdown",
   "id": "f35644ba",
   "metadata": {},
   "source": [
    "19. Print vowels in a word using for loop and if condition"
   ]
  },
  {
   "cell_type": "code",
   "execution_count": 38,
   "id": "1efb0758",
   "metadata": {},
   "outputs": [
    {
     "name": "stdout",
     "output_type": "stream",
     "text": [
      "Vowels in the word:sri kanya thatres\n",
      "i a a a e "
     ]
    }
   ],
   "source": [
    "word = input(\"Enter a word to print vowels: \")\n",
    "print(f\"Vowels in the word:{word}\")\n",
    "for char in word.lower():\n",
    "    if char in \"aeiou\":\n",
    "        print(char, end=\" \")"
   ]
  },
  {
   "cell_type": "markdown",
   "id": "5461d20b",
   "metadata": {},
   "source": [
    "20. Count how many vowels are there in a given word"
   ]
  },
  {
   "cell_type": "code",
   "execution_count": 41,
   "id": "6cf327fe",
   "metadata": {},
   "outputs": [
    {
     "name": "stdout",
     "output_type": "stream",
     "text": [
      "The number of vowels in : inbroooo\n",
      "Number of vowels: 5\n"
     ]
    }
   ],
   "source": [
    "word = input(\"Enter a word to count vowels: \")\n",
    "print(f'The number of vowels in : {word}')\n",
    "count = 0\n",
    "for char in word.lower():\n",
    "    if char in \"aeiou\":\n",
    "        count += 1\n",
    "print(f\"Number of vowels: {count}\")\n",
    "  "
   ]
  },
  {
   "cell_type": "markdown",
   "id": "1ed2de15",
   "metadata": {},
   "source": [
    "SECTION 5 - Creative and Fun Loops     \n",
    "21. Print the word \"Hello\" 5 times using a loop"
   ]
  },
  {
   "cell_type": "code",
   "execution_count": 48,
   "id": "c69620af",
   "metadata": {},
   "outputs": [
    {
     "name": "stdout",
     "output_type": "stream",
     "text": [
      "Task 21: Print 'Hello' 5 times\n",
      "Hello\n",
      "Hello\n",
      "Hello\n",
      "Hello\n",
      "Hello\n",
      "\n"
     ]
    }
   ],
   "source": [
    "print(\"Task 21: Print 'Hello' 5 times\")\n",
    "for i in range(5):\n",
    "    print(\"Hello\")\n",
    "print()"
   ]
  },
  {
   "cell_type": "markdown",
   "id": "0204f36c",
   "metadata": {},
   "source": [
    "22. Ask the user their favorite colour 3 times using a loop"
   ]
  },
  {
   "cell_type": "code",
   "execution_count": 47,
   "id": "cb835075",
   "metadata": {},
   "outputs": [
    {
     "name": "stdout",
     "output_type": "stream",
     "text": [
      "Ask favorite colour 3 times\n",
      "You entered: yellow\n",
      "You entered: yellow\n",
      "You entered: ye;;pw\n",
      "\n"
     ]
    }
   ],
   "source": [
    "\n",
    "print(\"Ask favorite colour 3 times\")\n",
    "for i in range(3):\n",
    "    color = input(f\"Enter your favorite color ({i+1}/3): \")\n",
    "    print(f\"You entered: {color}\")\n",
    "print()"
   ]
  },
  {
   "cell_type": "markdown",
   "id": "fded0bd8",
   "metadata": {},
   "source": [
    " 23. Print pattern using nested loop: A, BB, CCC"
   ]
  },
  {
   "cell_type": "code",
   "execution_count": 45,
   "id": "229d13a0",
   "metadata": {},
   "outputs": [
    {
     "name": "stdout",
     "output_type": "stream",
     "text": [
      "Pattern A, BB, CCC\n",
      "A\n",
      "BB\n",
      "CCC\n",
      "\n"
     ]
    }
   ],
   "source": [
    "\n",
    "print(\"Pattern A, BB, CCC\")\n",
    "for i in range(1, 4):\n",
    "    print(chr(64 + i) * i)  # chr(65) is 'A'\n",
    "print()\n"
   ]
  },
  {
   "cell_type": "markdown",
   "id": "99234ab9",
   "metadata": {},
   "source": [
    "24. Count how many times 'a' appears in 'banana'\n"
   ]
  },
  {
   "cell_type": "code",
   "execution_count": 44,
   "id": "9910e891",
   "metadata": {},
   "outputs": [
    {
     "name": "stdout",
     "output_type": "stream",
     "text": [
      "'a' appears 3 times in 'banana'\n",
      "\n"
     ]
    }
   ],
   "source": [
    "word = \"banana\"\n",
    "count_a = 0\n",
    "for char in word:\n",
    "    if char == 'a':\n",
    "        count_a += 1\n",
    "print(f\"'a' appears {count_a} times in '{word}'\")\n",
    "print()"
   ]
  },
  {
   "cell_type": "markdown",
   "id": "e949f872",
   "metadata": {},
   "source": [
    "25. Print numbers from 1 to 10, print 'small' if <5, else 'big'"
   ]
  },
  {
   "cell_type": "code",
   "execution_count": 49,
   "id": "ab29bda2",
   "metadata": {},
   "outputs": [
    {
     "name": "stdout",
     "output_type": "stream",
     "text": [
      "Numbers with small/big\n",
      "1 small\n",
      "2 small\n",
      "3 small\n",
      "4 small\n",
      "5 big\n",
      "6 big\n",
      "7 big\n",
      "8 big\n",
      "9 big\n",
      "10 big\n"
     ]
    }
   ],
   "source": [
    "print(\"Numbers with small/big\")\n",
    "for i in range(1, 11):\n",
    "    if i < 5:\n",
    "        print(i, \"small\")\n",
    "    else:\n",
    "        print(i, \"big\")\n"
   ]
  }
 ],
 "metadata": {
  "kernelspec": {
   "display_name": "base",
   "language": "python",
   "name": "python3"
  },
  "language_info": {
   "codemirror_mode": {
    "name": "ipython",
    "version": 3
   },
   "file_extension": ".py",
   "mimetype": "text/x-python",
   "name": "python",
   "nbconvert_exporter": "python",
   "pygments_lexer": "ipython3",
   "version": "3.12.7"
  }
 },
 "nbformat": 4,
 "nbformat_minor": 5
}
