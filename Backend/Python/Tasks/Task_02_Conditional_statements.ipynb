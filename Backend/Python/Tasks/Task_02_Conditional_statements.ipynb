{
 "cells": [
  {
   "cell_type": "markdown",
   "id": "f299f64f",
   "metadata": {},
   "source": [
    "MINI  CODING CHALLENGES"
   ]
  },
  {
   "cell_type": "markdown",
   "id": "1b760446",
   "metadata": {},
   "source": [
    "1. Check if a number is divisible by both 3 and 5."
   ]
  },
  {
   "cell_type": "code",
   "execution_count": 6,
   "id": "f85077ec",
   "metadata": {},
   "outputs": [
    {
     "name": "stdout",
     "output_type": "stream",
     "text": [
      "15 is divisible by both 3 and 5\n"
     ]
    }
   ],
   "source": [
    "n = int(input(\"Enter your desired number:\"))\n",
    "if n % 3 == 0 and n % 5 == 0:\n",
    "    print(f'{n} is divisible by both 3 and 5')\n",
    "else:\n",
    "    print(f'{n} is not divisible by both 3 and 5')"
   ]
  },
  {
   "cell_type": "markdown",
   "id": "addebde5",
   "metadata": {},
   "source": [
    "2. Compare two numbers and print which one is greater."
   ]
  },
  {
   "cell_type": "code",
   "execution_count": 7,
   "id": "baa657bd",
   "metadata": {},
   "outputs": [
    {
     "name": "stdout",
     "output_type": "stream",
     "text": [
      "5 is greater than 4\n"
     ]
    }
   ],
   "source": [
    "a = int(input('enter your first number:'))\n",
    "b = int(input('enter your second number:'))\n",
    "if a >b:\n",
    "    print(f'{a} is greater than {b}')\n",
    "else:\n",
    "    print(f'{a} is less than {b}')"
   ]
  },
  {
   "cell_type": "markdown",
   "id": "ed46d51e",
   "metadata": {},
   "source": [
    "4.Ask for a score and print Grade A/B/C/Fail."
   ]
  },
  {
   "cell_type": "code",
   "execution_count": 8,
   "id": "e33320ef",
   "metadata": {},
   "outputs": [
    {
     "name": "stdout",
     "output_type": "stream",
     "text": [
      "Grade B\n"
     ]
    }
   ],
   "source": [
    "marks = int(input('Enter your score to find your grade:'))\n",
    "if marks >= 90:\n",
    "    print(\"Grade A\")\n",
    "elif marks >= 75:\n",
    "    print(\"Grade B\")\n",
    "elif marks >= 60:\n",
    "    print(\"Grade C\")\n",
    "else:\n",
    "    print(\"Fail\")"
   ]
  },
  {
   "cell_type": "markdown",
   "id": "03b73969",
   "metadata": {},
   "source": [
    "4. Check if a number is positive and even."
   ]
  },
  {
   "cell_type": "code",
   "execution_count": 9,
   "id": "1b2a480a",
   "metadata": {},
   "outputs": [
    {
     "name": "stdout",
     "output_type": "stream",
     "text": [
      "-12 is negative and even\n"
     ]
    }
   ],
   "source": [
    "n = int(input('Enter your number:'))\n",
    "if n > 0 and n % 2 == 0:\n",
    "    print(f'{n} is positive and even')\n",
    "elif n > 0 and n % 2 != 0:\n",
    "    print(f'{n} is positive and odd')\n",
    "elif n < 0 and n % 2 == 0:\n",
    "    print(f'{n} is negative and even')\n",
    "elif n < 0 and n % 2 != 0:\n",
    "    print(f'{n} is negative and odd')\n",
    "else:\n",
    "    print('The number is zero, which is even but not positive or negative')\n",
    "\n"
   ]
  },
  {
   "cell_type": "markdown",
   "id": "2c5d5be6",
   "metadata": {},
   "source": [
    "5. Ask the users age and suggest:\n",
    "- Child if < 13\n",
    "- Teen if 13-19\n",
    "- Adult if 20+"
   ]
  },
  {
   "cell_type": "code",
   "execution_count": 10,
   "id": "63f406e5",
   "metadata": {},
   "outputs": [
    {
     "name": "stdout",
     "output_type": "stream",
     "text": [
      "you are an adult\n"
     ]
    }
   ],
   "source": [
    "age = int(input('Enter your age:'))\n",
    "if age < 13:\n",
    "    print('You are a child')\n",
    "elif age > 13 and age < 19:\n",
    "    print('You are a teen')\n",
    "if age >= 20:\n",
    "    print('you are an adult')\n",
    "else:\n",
    "    print('You are not human')"
   ]
  }
 ],
 "metadata": {
  "kernelspec": {
   "display_name": "base",
   "language": "python",
   "name": "python3"
  },
  "language_info": {
   "codemirror_mode": {
    "name": "ipython",
    "version": 3
   },
   "file_extension": ".py",
   "mimetype": "text/x-python",
   "name": "python",
   "nbconvert_exporter": "python",
   "pygments_lexer": "ipython3",
   "version": "3.12.7"
  }
 },
 "nbformat": 4,
 "nbformat_minor": 5
}
