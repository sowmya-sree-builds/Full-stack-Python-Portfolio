{
 "cells": [
  {
   "cell_type": "markdown",
   "id": "7d01e57a",
   "metadata": {},
   "source": [
    "**Basic Comprehesions**\n"
   ]
  },
  {
   "cell_type": "code",
   "execution_count": 3,
   "id": "2dd664d6",
   "metadata": {},
   "outputs": [
    {
     "name": "stdout",
     "output_type": "stream",
     "text": [
      "6\n"
     ]
    }
   ],
   "source": [
    "# General way \n",
    "l = [1,2,3]\n",
    "sum = 0\n",
    "for i in l:\n",
    "    sum+=i\n",
    "print(sum)"
   ]
  },
  {
   "cell_type": "code",
   "execution_count": 1,
   "id": "faabf0db",
   "metadata": {},
   "outputs": [
    {
     "name": "stdout",
     "output_type": "stream",
     "text": [
      "6\n"
     ]
    }
   ],
   "source": [
    "l = [1,2,3]\n",
    "total = sum([i for i in l])\n",
    "print(total)"
   ]
  },
  {
   "cell_type": "code",
   "execution_count": 7,
   "id": "afc15a2c",
   "metadata": {},
   "outputs": [
    {
     "name": "stdout",
     "output_type": "stream",
     "text": [
      "[1, 4, 9, 16, 25]\n"
     ]
    }
   ],
   "source": [
    "a = 1\n",
    "b = 6\n",
    "re = []\n",
    "for i in range(a,b):\n",
    "    s = i*i\n",
    "    re.append(s)\n",
    "print(re)"
   ]
  },
  {
   "cell_type": "code",
   "execution_count": 8,
   "id": "57c6333e",
   "metadata": {},
   "outputs": [
    {
     "name": "stdout",
     "output_type": "stream",
     "text": [
      "[1, 4, 9, 16, 25]\n"
     ]
    }
   ],
   "source": [
    "su = [i**2 for i in range(a,b)]\n",
    "print(su)"
   ]
  },
  {
   "cell_type": "code",
   "execution_count": 12,
   "id": "12a4138f",
   "metadata": {},
   "outputs": [
    {
     "name": "stdout",
     "output_type": "stream",
     "text": [
      "[0, 2, 4, 6, 8]\n",
      "[0, 2, 4, 6, 8]\n",
      "[0, 2, 4, 6, 8]\n"
     ]
    }
   ],
   "source": [
    "c = 10\n",
    "k = [i for i in range(c) if i % 2 == 0]\n",
    "print(k)\n",
    "j = []\n",
    "for i in range(c):\n",
    "    if i %2 ==0:\n",
    "        j.append(i)\n",
    "print(j)\n",
    "d = 10\n",
    "e = [i for i in range(d) if i&1 ==0]\n",
    "print(e)"
   ]
  },
  {
   "cell_type": "markdown",
   "id": "ca021319",
   "metadata": {},
   "source": [
    "Dictionary Comprehensions"
   ]
  },
  {
   "cell_type": "code",
   "execution_count": 23,
   "id": "61c3e5db",
   "metadata": {},
   "outputs": [
    {
     "name": "stdout",
     "output_type": "stream",
     "text": [
      "{1: 1, 2: 4, 3: 9, 4: 16, 5: 25}\n",
      "{1: 1, 2: 4, 3: 9, 4: 16, 5: 25}\n"
     ]
    }
   ],
   "source": [
    "a = 1\n",
    "b = 6\n",
    "d = e ={}\n",
    "for i in range(a,b):\n",
    "    d[i] = i*i\n",
    "print(d)\n",
    "\n",
    "e = {i:i*i for i in range (a,b)}\n",
    "print(e)"
   ]
  },
  {
   "cell_type": "code",
   "execution_count": 28,
   "id": "a450f63d",
   "metadata": {},
   "outputs": [
    {
     "name": "stdout",
     "output_type": "stream",
     "text": [
      "{0: 'even', 1: 'odd', 2: 'even', 3: 'odd'}\n"
     ]
    }
   ],
   "source": [
    "a = 4\n",
    "s={}\n",
    "s = {i:'even' if i%2==0 else 'odd' for i in range(a) }\n",
    "print(s)"
   ]
  },
  {
   "cell_type": "code",
   "execution_count": 44,
   "id": "dc51db9a",
   "metadata": {},
   "outputs": [
    {
     "name": "stdout",
     "output_type": "stream",
     "text": [
      "{'o', 'i', 'e'} ['o', 'e', 'e', 'i', 'o'] {'C': 'consonant', 'o': 'vowel', 'm': 'consonant', 'p': 'consonant', 'r': 'consonant', 'e': 'vowel', 'h': 'consonant', 'n': 'consonant', 's': 'consonant', 'i': 'vowel'}\n"
     ]
    }
   ],
   "source": [
    "s = 'Comprehensions'\n",
    "li = {i for i in s if i in ['a','e','i','o','u']}\n",
    "lis = [i for i in s if i in ['a','e','i','o','u']]\n",
    "h ={}\n",
    "h = {i:\"vowel\" if i in \"aeiou\" else \"consonant\" for i in s}\n",
    "print(li,lis,h)"
   ]
  },
  {
   "cell_type": "code",
   "execution_count": null,
   "id": "f6e0f6c6",
   "metadata": {},
   "outputs": [],
   "source": [
    "  "
   ]
  },
  {
   "cell_type": "code",
   "execution_count": null,
   "id": "83b951ce",
   "metadata": {},
   "outputs": [],
   "source": []
  }
 ],
 "metadata": {
  "kernelspec": {
   "display_name": "base",
   "language": "python",
   "name": "python3"
  },
  "language_info": {
   "codemirror_mode": {
    "name": "ipython",
    "version": 3
   },
   "file_extension": ".py",
   "mimetype": "text/x-python",
   "name": "python",
   "nbconvert_exporter": "python",
   "pygments_lexer": "ipython3",
   "version": "3.12.7"
  }
 },
 "nbformat": 4,
 "nbformat_minor": 5
}
