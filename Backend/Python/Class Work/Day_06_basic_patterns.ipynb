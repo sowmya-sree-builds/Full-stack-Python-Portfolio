{
 "cells": [
  {
   "cell_type": "markdown",
   "id": "f8879816",
   "metadata": {},
   "source": [
    "pattern-1 (star)"
   ]
  },
  {
   "cell_type": "markdown",
   "id": "6b402870",
   "metadata": {},
   "source": [
    "Squares"
   ]
  },
  {
   "cell_type": "code",
   "execution_count": 7,
   "id": "c7cc31af",
   "metadata": {},
   "outputs": [
    {
     "name": "stdout",
     "output_type": "stream",
     "text": [
      "* * * "
     ]
    }
   ],
   "source": [
    "for row in range(3):\n",
    "    print('*',end = ' ')\n"
   ]
  },
  {
   "cell_type": "code",
   "execution_count": 15,
   "id": "4570ac7f",
   "metadata": {},
   "outputs": [
    {
     "name": "stdout",
     "output_type": "stream",
     "text": [
      "* * * * * * \n",
      "* * * * * * \n",
      "* * * * * * \n",
      "* * * * * * \n",
      "* * * * * * \n",
      "* * * * * * \n"
     ]
    }
   ],
   "source": [
    "for row in range(6):\n",
    "    for column in range(6):\n",
    "        print('*',end = ' ')\n",
    "    print('')"
   ]
  },
  {
   "cell_type": "code",
   "execution_count": 16,
   "id": "e795d35c",
   "metadata": {},
   "outputs": [
    {
     "name": "stdout",
     "output_type": "stream",
     "text": [
      "* * * \n",
      "* * * \n",
      "* * * \n",
      "* * * \n",
      "* * * \n",
      "* * * \n"
     ]
    }
   ],
   "source": [
    "for row in range(6):\n",
    "    for column in range(3):\n",
    "        print('*',end = ' ')\n",
    "    print('')"
   ]
  },
  {
   "cell_type": "markdown",
   "id": "baae9a66",
   "metadata": {},
   "source": [
    "Basic Triangles - right angled,inverted right angle"
   ]
  },
  {
   "cell_type": "code",
   "execution_count": null,
   "id": "36e33135",
   "metadata": {},
   "outputs": [
    {
     "name": "stdout",
     "output_type": "stream",
     "text": [
      "* \n",
      "* * \n",
      "* * * \n",
      "* * * * \n",
      "* * * * * \n"
     ]
    }
   ],
   "source": [
    "n = 5\n",
    "for row in range(1,n+1):\n",
    "    for column in range(row):\n",
    "        print('*',end=' ')\n",
    "    print('')\n"
   ]
  },
  {
   "cell_type": "code",
   "execution_count": null,
   "id": "e2e18758",
   "metadata": {},
   "outputs": [
    {
     "name": "stdout",
     "output_type": "stream",
     "text": [
      "* * * * * \n",
      "* * * * \n",
      "* * * \n",
      "* * \n",
      "* \n"
     ]
    }
   ],
   "source": [
    "n = 5\n",
    "for row in range(n,0,-1): # (start,stop,step)\n",
    "    for column in range(row):\n",
    "        print('*',end=' ')\n",
    "    print('')"
   ]
  },
  {
   "cell_type": "markdown",
   "id": "17ef6b6f",
   "metadata": {},
   "source": []
  }
 ],
 "metadata": {
  "kernelspec": {
   "display_name": "base",
   "language": "python",
   "name": "python3"
  },
  "language_info": {
   "codemirror_mode": {
    "name": "ipython",
    "version": 3
   },
   "file_extension": ".py",
   "mimetype": "text/x-python",
   "name": "python",
   "nbconvert_exporter": "python",
   "pygments_lexer": "ipython3",
   "version": "3.12.7"
  }
 },
 "nbformat": 4,
 "nbformat_minor": 5
}
